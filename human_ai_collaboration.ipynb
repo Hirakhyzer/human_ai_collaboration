{
  "metadata": {
    "kernelspec": {
      "display_name": "Python 3",
      "name": "python3"
    },
    "language_info": {
      "name": "python",
      "version": "3.10.14",
      "mimetype": "text/x-python",
      "codemirror_mode": {
        "name": "ipython",
        "version": 3
      },
      "pygments_lexer": "ipython3",
      "nbconvert_exporter": "python",
      "file_extension": ".py"
    },
    "kaggle": {
      "accelerator": "none",
      "dataSources": [
        {
          "sourceId": 9765976,
          "sourceType": "datasetVersion",
          "datasetId": 5980332
        }
      ],
      "dockerImageVersionId": 30786,
      "isInternetEnabled": true,
      "language": "python",
      "sourceType": "notebook",
      "isGpuEnabled": false
    },
    "colab": {
      "provenance": [],
      "toc_visible": true,
      "gpuType": "T4"
    },
    "accelerator": "GPU"
  },
  "nbformat_minor": 0,
  "nbformat": 4,
  "cells": [
    {
      "cell_type": "markdown",
      "source": [
        "# Step 1: Exploratory Data Analysis (EDA)\n",
        "\n",
        "In this step, we'll:\n",
        "\n",
        "Load the dataset to confirm that it’s accessible.\n",
        "Inspect basic statistics and data structure.\n",
        "Analyze key columns, such as error_type, tags, and code characteristics.\n",
        "Visualize distributions to uncover any interesting patterns.\n",
        "\n",
        "# **1.1 Load the Dataset**\n",
        "Let’s start by loading CodeSO-QR.csv and inspecting the first few rows to confirm everything loaded correctly."
      ],
      "metadata": {
        "id": "AdISTOzlrVGZ"
      }
    },
    {
      "cell_type": "code",
      "source": [
        "from google.colab import drive\n",
        "drive.mount('/content/drive')"
      ],
      "metadata": {
        "colab": {
          "base_uri": "https://localhost:8080/"
        },
        "id": "ZL0Dq1mjsBll",
        "outputId": "1335d908-d8d8-4eb8-d462-f0d96d37b4c6"
      },
      "execution_count": 16,
      "outputs": [
        {
          "output_type": "stream",
          "name": "stdout",
          "text": [
            "Mounted at /content/drive\n"
          ]
        }
      ]
    },
    {
      "cell_type": "code",
      "source": [
        "import pandas as pd\n",
        "\n",
        "# Load the dataset\n",
        "df = pd.read_csv('/content/drive/MyDrive/Colab Notebooks/CodeSO-QR.csv')\n",
        "df.head()\n"
      ],
      "metadata": {
        "_uuid": "8f2839f25d086af736a60e9eeb907d3b93b6e0e5",
        "_cell_guid": "b1076dfc-b9ad-4769-8c92-a6c4dae69d19",
        "trusted": true,
        "colab": {
          "base_uri": "https://localhost:8080/",
          "height": 625
        },
        "id": "x7gLzlwIrVGc",
        "outputId": "1747c712-44c2-4e2f-c472-2c1b808815c2"
      },
      "execution_count": 17,
      "outputs": [
        {
          "output_type": "execute_result",
          "data": {
            "text/plain": [
              "                         func_name  \\\n",
              "0                          predict   \n",
              "1  show_prediction_labels_on_image   \n",
              "2  show_prediction_labels_on_image   \n",
              "3  show_prediction_labels_on_image   \n",
              "4  show_prediction_labels_on_image   \n",
              "\n",
              "                                                code  \\\n",
              "0  def predict(X_img_path, knn_clf=None, model_pa...   \n",
              "1  def show_prediction_labels_on_image(img_path, ...   \n",
              "2  def show_prediction_labels_on_image(img_path, ...   \n",
              "3  def show_prediction_labels_on_image(img_path, ...   \n",
              "4  def show_prediction_labels_on_image(img_path, ...   \n",
              "\n",
              "                                     original_string language  \\\n",
              "0  def predict(X_img_path, knn_clf=None, model_pa...   python   \n",
              "1  def show_prediction_labels_on_image(img_path, ...   python   \n",
              "2  def show_prediction_labels_on_image(img_path, ...   python   \n",
              "3  def show_prediction_labels_on_image(img_path, ...   python   \n",
              "4  def show_prediction_labels_on_image(img_path, ...   python   \n",
              "\n",
              "                                          buggy_code  \\\n",
              "0  def predict(X_img_path, knn_clf=None, model_pa...   \n",
              "1  def show_prediction_labels_on_image(img_path, ...   \n",
              "2  def show_prediction_labels_on_image(img_path, ...   \n",
              "3  def show_prediction_labels_on_image(img_path, ...   \n",
              "4  def show_prediction_labels_on_image(img_path, ...   \n",
              "\n",
              "                                        correct_code error_type  \\\n",
              "0  def predict(X_img_path, knn_clf=None, model_pa...     syntax   \n",
              "1  def show_prediction_labels_on_image(img_path, ...     syntax   \n",
              "2  def show_prediction_labels_on_image(img_path, ...     syntax   \n",
              "3  def show_prediction_labels_on_image(img_path, ...     syntax   \n",
              "4  def show_prediction_labels_on_image(img_path, ...     syntax   \n",
              "\n",
              "                                      question_title  \\\n",
              "0                  Why are Java Optionals immutable?   \n",
              "1  Text Overlay Image with Darkened Opacity React...   \n",
              "2  Text Overlay Image with Darkened Opacity React...   \n",
              "3  Text Overlay Image with Darkened Opacity React...   \n",
              "4  Text Overlay Image with Darkened Opacity React...   \n",
              "\n",
              "                                       question_body  \\\n",
              "0  <p>I'd like to understand why Java 8 Optionals...   \n",
              "1  <p>I am attempting to overlay a title over an ...   \n",
              "2  <p>I am attempting to overlay a title over an ...   \n",
              "3  <p>I am attempting to overlay a title over an ...   \n",
              "4  <p>I am attempting to overlay a title over an ...   \n",
              "\n",
              "                                                tags  \n",
              "0                                   <java><optional>  \n",
              "1  <javascript><image><overlay><react-native><opa...  \n",
              "2  <javascript><image><overlay><react-native><opa...  \n",
              "3  <javascript><image><overlay><react-native><opa...  \n",
              "4  <javascript><image><overlay><react-native><opa...  "
            ],
            "text/html": [
              "\n",
              "  <div id=\"df-c670af10-eda8-474d-8b55-2b3656bf03eb\" class=\"colab-df-container\">\n",
              "    <div>\n",
              "<style scoped>\n",
              "    .dataframe tbody tr th:only-of-type {\n",
              "        vertical-align: middle;\n",
              "    }\n",
              "\n",
              "    .dataframe tbody tr th {\n",
              "        vertical-align: top;\n",
              "    }\n",
              "\n",
              "    .dataframe thead th {\n",
              "        text-align: right;\n",
              "    }\n",
              "</style>\n",
              "<table border=\"1\" class=\"dataframe\">\n",
              "  <thead>\n",
              "    <tr style=\"text-align: right;\">\n",
              "      <th></th>\n",
              "      <th>func_name</th>\n",
              "      <th>code</th>\n",
              "      <th>original_string</th>\n",
              "      <th>language</th>\n",
              "      <th>buggy_code</th>\n",
              "      <th>correct_code</th>\n",
              "      <th>error_type</th>\n",
              "      <th>question_title</th>\n",
              "      <th>question_body</th>\n",
              "      <th>tags</th>\n",
              "    </tr>\n",
              "  </thead>\n",
              "  <tbody>\n",
              "    <tr>\n",
              "      <th>0</th>\n",
              "      <td>predict</td>\n",
              "      <td>def predict(X_img_path, knn_clf=None, model_pa...</td>\n",
              "      <td>def predict(X_img_path, knn_clf=None, model_pa...</td>\n",
              "      <td>python</td>\n",
              "      <td>def predict(X_img_path, knn_clf=None, model_pa...</td>\n",
              "      <td>def predict(X_img_path, knn_clf=None, model_pa...</td>\n",
              "      <td>syntax</td>\n",
              "      <td>Why are Java Optionals immutable?</td>\n",
              "      <td>&lt;p&gt;I'd like to understand why Java 8 Optionals...</td>\n",
              "      <td>&lt;java&gt;&lt;optional&gt;</td>\n",
              "    </tr>\n",
              "    <tr>\n",
              "      <th>1</th>\n",
              "      <td>show_prediction_labels_on_image</td>\n",
              "      <td>def show_prediction_labels_on_image(img_path, ...</td>\n",
              "      <td>def show_prediction_labels_on_image(img_path, ...</td>\n",
              "      <td>python</td>\n",
              "      <td>def show_prediction_labels_on_image(img_path, ...</td>\n",
              "      <td>def show_prediction_labels_on_image(img_path, ...</td>\n",
              "      <td>syntax</td>\n",
              "      <td>Text Overlay Image with Darkened Opacity React...</td>\n",
              "      <td>&lt;p&gt;I am attempting to overlay a title over an ...</td>\n",
              "      <td>&lt;javascript&gt;&lt;image&gt;&lt;overlay&gt;&lt;react-native&gt;&lt;opa...</td>\n",
              "    </tr>\n",
              "    <tr>\n",
              "      <th>2</th>\n",
              "      <td>show_prediction_labels_on_image</td>\n",
              "      <td>def show_prediction_labels_on_image(img_path, ...</td>\n",
              "      <td>def show_prediction_labels_on_image(img_path, ...</td>\n",
              "      <td>python</td>\n",
              "      <td>def show_prediction_labels_on_image(img_path, ...</td>\n",
              "      <td>def show_prediction_labels_on_image(img_path, ...</td>\n",
              "      <td>syntax</td>\n",
              "      <td>Text Overlay Image with Darkened Opacity React...</td>\n",
              "      <td>&lt;p&gt;I am attempting to overlay a title over an ...</td>\n",
              "      <td>&lt;javascript&gt;&lt;image&gt;&lt;overlay&gt;&lt;react-native&gt;&lt;opa...</td>\n",
              "    </tr>\n",
              "    <tr>\n",
              "      <th>3</th>\n",
              "      <td>show_prediction_labels_on_image</td>\n",
              "      <td>def show_prediction_labels_on_image(img_path, ...</td>\n",
              "      <td>def show_prediction_labels_on_image(img_path, ...</td>\n",
              "      <td>python</td>\n",
              "      <td>def show_prediction_labels_on_image(img_path, ...</td>\n",
              "      <td>def show_prediction_labels_on_image(img_path, ...</td>\n",
              "      <td>syntax</td>\n",
              "      <td>Text Overlay Image with Darkened Opacity React...</td>\n",
              "      <td>&lt;p&gt;I am attempting to overlay a title over an ...</td>\n",
              "      <td>&lt;javascript&gt;&lt;image&gt;&lt;overlay&gt;&lt;react-native&gt;&lt;opa...</td>\n",
              "    </tr>\n",
              "    <tr>\n",
              "      <th>4</th>\n",
              "      <td>show_prediction_labels_on_image</td>\n",
              "      <td>def show_prediction_labels_on_image(img_path, ...</td>\n",
              "      <td>def show_prediction_labels_on_image(img_path, ...</td>\n",
              "      <td>python</td>\n",
              "      <td>def show_prediction_labels_on_image(img_path, ...</td>\n",
              "      <td>def show_prediction_labels_on_image(img_path, ...</td>\n",
              "      <td>syntax</td>\n",
              "      <td>Text Overlay Image with Darkened Opacity React...</td>\n",
              "      <td>&lt;p&gt;I am attempting to overlay a title over an ...</td>\n",
              "      <td>&lt;javascript&gt;&lt;image&gt;&lt;overlay&gt;&lt;react-native&gt;&lt;opa...</td>\n",
              "    </tr>\n",
              "  </tbody>\n",
              "</table>\n",
              "</div>\n",
              "    <div class=\"colab-df-buttons\">\n",
              "\n",
              "  <div class=\"colab-df-container\">\n",
              "    <button class=\"colab-df-convert\" onclick=\"convertToInteractive('df-c670af10-eda8-474d-8b55-2b3656bf03eb')\"\n",
              "            title=\"Convert this dataframe to an interactive table.\"\n",
              "            style=\"display:none;\">\n",
              "\n",
              "  <svg xmlns=\"http://www.w3.org/2000/svg\" height=\"24px\" viewBox=\"0 -960 960 960\">\n",
              "    <path d=\"M120-120v-720h720v720H120Zm60-500h600v-160H180v160Zm220 220h160v-160H400v160Zm0 220h160v-160H400v160ZM180-400h160v-160H180v160Zm440 0h160v-160H620v160ZM180-180h160v-160H180v160Zm440 0h160v-160H620v160Z\"/>\n",
              "  </svg>\n",
              "    </button>\n",
              "\n",
              "  <style>\n",
              "    .colab-df-container {\n",
              "      display:flex;\n",
              "      gap: 12px;\n",
              "    }\n",
              "\n",
              "    .colab-df-convert {\n",
              "      background-color: #E8F0FE;\n",
              "      border: none;\n",
              "      border-radius: 50%;\n",
              "      cursor: pointer;\n",
              "      display: none;\n",
              "      fill: #1967D2;\n",
              "      height: 32px;\n",
              "      padding: 0 0 0 0;\n",
              "      width: 32px;\n",
              "    }\n",
              "\n",
              "    .colab-df-convert:hover {\n",
              "      background-color: #E2EBFA;\n",
              "      box-shadow: 0px 1px 2px rgba(60, 64, 67, 0.3), 0px 1px 3px 1px rgba(60, 64, 67, 0.15);\n",
              "      fill: #174EA6;\n",
              "    }\n",
              "\n",
              "    .colab-df-buttons div {\n",
              "      margin-bottom: 4px;\n",
              "    }\n",
              "\n",
              "    [theme=dark] .colab-df-convert {\n",
              "      background-color: #3B4455;\n",
              "      fill: #D2E3FC;\n",
              "    }\n",
              "\n",
              "    [theme=dark] .colab-df-convert:hover {\n",
              "      background-color: #434B5C;\n",
              "      box-shadow: 0px 1px 3px 1px rgba(0, 0, 0, 0.15);\n",
              "      filter: drop-shadow(0px 1px 2px rgba(0, 0, 0, 0.3));\n",
              "      fill: #FFFFFF;\n",
              "    }\n",
              "  </style>\n",
              "\n",
              "    <script>\n",
              "      const buttonEl =\n",
              "        document.querySelector('#df-c670af10-eda8-474d-8b55-2b3656bf03eb button.colab-df-convert');\n",
              "      buttonEl.style.display =\n",
              "        google.colab.kernel.accessAllowed ? 'block' : 'none';\n",
              "\n",
              "      async function convertToInteractive(key) {\n",
              "        const element = document.querySelector('#df-c670af10-eda8-474d-8b55-2b3656bf03eb');\n",
              "        const dataTable =\n",
              "          await google.colab.kernel.invokeFunction('convertToInteractive',\n",
              "                                                    [key], {});\n",
              "        if (!dataTable) return;\n",
              "\n",
              "        const docLinkHtml = 'Like what you see? Visit the ' +\n",
              "          '<a target=\"_blank\" href=https://colab.research.google.com/notebooks/data_table.ipynb>data table notebook</a>'\n",
              "          + ' to learn more about interactive tables.';\n",
              "        element.innerHTML = '';\n",
              "        dataTable['output_type'] = 'display_data';\n",
              "        await google.colab.output.renderOutput(dataTable, element);\n",
              "        const docLink = document.createElement('div');\n",
              "        docLink.innerHTML = docLinkHtml;\n",
              "        element.appendChild(docLink);\n",
              "      }\n",
              "    </script>\n",
              "  </div>\n",
              "\n",
              "\n",
              "<div id=\"df-e295c195-ff25-42d2-b2bd-698c54644a11\">\n",
              "  <button class=\"colab-df-quickchart\" onclick=\"quickchart('df-e295c195-ff25-42d2-b2bd-698c54644a11')\"\n",
              "            title=\"Suggest charts\"\n",
              "            style=\"display:none;\">\n",
              "\n",
              "<svg xmlns=\"http://www.w3.org/2000/svg\" height=\"24px\"viewBox=\"0 0 24 24\"\n",
              "     width=\"24px\">\n",
              "    <g>\n",
              "        <path d=\"M19 3H5c-1.1 0-2 .9-2 2v14c0 1.1.9 2 2 2h14c1.1 0 2-.9 2-2V5c0-1.1-.9-2-2-2zM9 17H7v-7h2v7zm4 0h-2V7h2v10zm4 0h-2v-4h2v4z\"/>\n",
              "    </g>\n",
              "</svg>\n",
              "  </button>\n",
              "\n",
              "<style>\n",
              "  .colab-df-quickchart {\n",
              "      --bg-color: #E8F0FE;\n",
              "      --fill-color: #1967D2;\n",
              "      --hover-bg-color: #E2EBFA;\n",
              "      --hover-fill-color: #174EA6;\n",
              "      --disabled-fill-color: #AAA;\n",
              "      --disabled-bg-color: #DDD;\n",
              "  }\n",
              "\n",
              "  [theme=dark] .colab-df-quickchart {\n",
              "      --bg-color: #3B4455;\n",
              "      --fill-color: #D2E3FC;\n",
              "      --hover-bg-color: #434B5C;\n",
              "      --hover-fill-color: #FFFFFF;\n",
              "      --disabled-bg-color: #3B4455;\n",
              "      --disabled-fill-color: #666;\n",
              "  }\n",
              "\n",
              "  .colab-df-quickchart {\n",
              "    background-color: var(--bg-color);\n",
              "    border: none;\n",
              "    border-radius: 50%;\n",
              "    cursor: pointer;\n",
              "    display: none;\n",
              "    fill: var(--fill-color);\n",
              "    height: 32px;\n",
              "    padding: 0;\n",
              "    width: 32px;\n",
              "  }\n",
              "\n",
              "  .colab-df-quickchart:hover {\n",
              "    background-color: var(--hover-bg-color);\n",
              "    box-shadow: 0 1px 2px rgba(60, 64, 67, 0.3), 0 1px 3px 1px rgba(60, 64, 67, 0.15);\n",
              "    fill: var(--button-hover-fill-color);\n",
              "  }\n",
              "\n",
              "  .colab-df-quickchart-complete:disabled,\n",
              "  .colab-df-quickchart-complete:disabled:hover {\n",
              "    background-color: var(--disabled-bg-color);\n",
              "    fill: var(--disabled-fill-color);\n",
              "    box-shadow: none;\n",
              "  }\n",
              "\n",
              "  .colab-df-spinner {\n",
              "    border: 2px solid var(--fill-color);\n",
              "    border-color: transparent;\n",
              "    border-bottom-color: var(--fill-color);\n",
              "    animation:\n",
              "      spin 1s steps(1) infinite;\n",
              "  }\n",
              "\n",
              "  @keyframes spin {\n",
              "    0% {\n",
              "      border-color: transparent;\n",
              "      border-bottom-color: var(--fill-color);\n",
              "      border-left-color: var(--fill-color);\n",
              "    }\n",
              "    20% {\n",
              "      border-color: transparent;\n",
              "      border-left-color: var(--fill-color);\n",
              "      border-top-color: var(--fill-color);\n",
              "    }\n",
              "    30% {\n",
              "      border-color: transparent;\n",
              "      border-left-color: var(--fill-color);\n",
              "      border-top-color: var(--fill-color);\n",
              "      border-right-color: var(--fill-color);\n",
              "    }\n",
              "    40% {\n",
              "      border-color: transparent;\n",
              "      border-right-color: var(--fill-color);\n",
              "      border-top-color: var(--fill-color);\n",
              "    }\n",
              "    60% {\n",
              "      border-color: transparent;\n",
              "      border-right-color: var(--fill-color);\n",
              "    }\n",
              "    80% {\n",
              "      border-color: transparent;\n",
              "      border-right-color: var(--fill-color);\n",
              "      border-bottom-color: var(--fill-color);\n",
              "    }\n",
              "    90% {\n",
              "      border-color: transparent;\n",
              "      border-bottom-color: var(--fill-color);\n",
              "    }\n",
              "  }\n",
              "</style>\n",
              "\n",
              "  <script>\n",
              "    async function quickchart(key) {\n",
              "      const quickchartButtonEl =\n",
              "        document.querySelector('#' + key + ' button');\n",
              "      quickchartButtonEl.disabled = true;  // To prevent multiple clicks.\n",
              "      quickchartButtonEl.classList.add('colab-df-spinner');\n",
              "      try {\n",
              "        const charts = await google.colab.kernel.invokeFunction(\n",
              "            'suggestCharts', [key], {});\n",
              "      } catch (error) {\n",
              "        console.error('Error during call to suggestCharts:', error);\n",
              "      }\n",
              "      quickchartButtonEl.classList.remove('colab-df-spinner');\n",
              "      quickchartButtonEl.classList.add('colab-df-quickchart-complete');\n",
              "    }\n",
              "    (() => {\n",
              "      let quickchartButtonEl =\n",
              "        document.querySelector('#df-e295c195-ff25-42d2-b2bd-698c54644a11 button');\n",
              "      quickchartButtonEl.style.display =\n",
              "        google.colab.kernel.accessAllowed ? 'block' : 'none';\n",
              "    })();\n",
              "  </script>\n",
              "</div>\n",
              "    </div>\n",
              "  </div>\n"
            ],
            "application/vnd.google.colaboratory.intrinsic+json": {
              "type": "dataframe",
              "variable_name": "df",
              "summary": "{\n  \"name\": \"df\",\n  \"rows\": 23784,\n  \"fields\": [\n    {\n      \"column\": \"func_name\",\n      \"properties\": {\n        \"dtype\": \"category\",\n        \"num_unique_values\": 9576,\n        \"samples\": [\n          \"initialize_schema\",\n          \"catalog.add\",\n          \"BQEngineSpec.mutate_label\"\n        ],\n        \"semantic_type\": \"\",\n        \"description\": \"\"\n      }\n    },\n    {\n      \"column\": \"code\",\n      \"properties\": {\n        \"dtype\": \"category\",\n        \"num_unique_values\": 10228,\n        \"samples\": [\n          \"def hover(self):\\n        ''' Splattable list of :class:`~bokeh.models.tools.HoverTool` objects.\\n\\n        '''\\n        hovers = [obj for obj in self.tools if isinstance(obj, HoverTool)]\\n        return _list_attr_splat(hovers)\",\n          \"def list_service_account_for_all_namespaces(self, **kwargs):\\n        \\\"\\\"\\\"\\n        list or watch objects of kind ServiceAccount\\n        This method makes a synchronous HTTP request by default. To make an\\n        asynchronous HTTP request, please pass async_req=True\\n        >>> thread = api.list_service_account_for_all_namespaces(async_req=True)\\n        >>> result = thread.get()\\n\\n        :param async_req bool\\n        :param str _continue: The continue option should be set when retrieving more results from the server. Since this value is server defined, clients may only use the continue value from a previous query result with identical query parameters (except for the value of continue) and the server may reject a continue value it does not recognize. If the specified continue value is no longer valid whether due to expiration (generally five to fifteen minutes) or a configuration change on the server, the server will respond with a 410 ResourceExpired error together with a continue token. If the client needs a consistent list, it must restart their list without the continue field. Otherwise, the client may send another list request with the token received with the 410 error, the server will respond with a list starting from the next key, but from the latest snapshot, which is inconsistent from the previous list results - objects that are created, modified, or deleted after the first list request will be included in the response, as long as their keys are after the \\\\\\\"next key\\\\\\\".  This field is not supported when watch is true. Clients may start a watch from the last resourceVersion value returned by the server and not miss any modifications.\\n        :param str field_selector: A selector to restrict the list of returned objects by their fields. Defaults to everything.\\n        :param str label_selector: A selector to restrict the list of returned objects by their labels. Defaults to everything.\\n        :param int limit: limit is a maximum number of responses to return for a list call. If more items exist, the server will set the `continue` field on the list metadata to a value that can be used with the same initial query to retrieve the next set of results. Setting a limit may return fewer than the requested amount of items (up to zero items) in the event all requested objects are filtered out and clients should only use the presence of the continue field to determine whether more results are available. Servers may choose not to support the limit argument and will return all of the available results. If limit is specified and the continue field is empty, clients may assume that no more results are available. This field is not supported if watch is true.  The server guarantees that the objects returned when using continue will be identical to issuing a single list call without a limit - that is, no objects created, modified, or deleted after the first request is issued will be included in any subsequent continued requests. This is sometimes referred to as a consistent snapshot, and ensures that a client that is using limit to receive smaller chunks of a very large result can ensure they see all possible objects. If objects are updated during a chunked list the version of the object that was present at the time the first list result was calculated is returned.\\n        :param str pretty: If 'true', then the output is pretty printed.\\n        :param str resource_version: When specified with a watch call, shows changes that occur after that particular version of a resource. Defaults to changes from the beginning of history. When specified for list: - if unset, then the result is returned from remote storage based on quorum-read flag; - if it's 0, then we simply return what we currently have in cache, no guarantee; - if set to non zero, then the result is at least as fresh as given rv.\\n        :param int timeout_seconds: Timeout for the list/watch call. This limits the duration of the call, regardless of any activity or inactivity.\\n        :param bool watch: Watch for changes to the described resources and return them as a stream of add, update, and remove notifications. Specify resourceVersion.\\n        :return: V1ServiceAccountList\\n                 If the method is called asynchronously,\\n                 returns the request thread.\\n        \\\"\\\"\\\"\\n        kwargs['_return_http_data_only'] = True\\n        if kwargs.get('async_req'):\\n            return self.list_service_account_for_all_namespaces_with_http_info(**kwargs)\\n        else:\\n            (data) = self.list_service_account_for_all_namespaces_with_http_info(**kwargs)\\n            return data\",\n          \"def _is_already_configured(configuration_details):\\n    \\\"\\\"\\\"Returns `True` when alias already in shell config.\\\"\\\"\\\"\\n    path = Path(configuration_details.path).expanduser()\\n    with path.open('r') as shell_config:\\n        return configuration_details.content in shell_config.read()\"\n        ],\n        \"semantic_type\": \"\",\n        \"description\": \"\"\n      }\n    },\n    {\n      \"column\": \"original_string\",\n      \"properties\": {\n        \"dtype\": \"category\",\n        \"num_unique_values\": 10228,\n        \"samples\": [\n          \"def hover(self):\\n        ''' Splattable list of :class:`~bokeh.models.tools.HoverTool` objects.\\n\\n        '''\\n        hovers = [obj for obj in self.tools if isinstance(obj, HoverTool)]\\n        return _list_attr_splat(hovers)\",\n          \"def list_service_account_for_all_namespaces(self, **kwargs):\\n        \\\"\\\"\\\"\\n        list or watch objects of kind ServiceAccount\\n        This method makes a synchronous HTTP request by default. To make an\\n        asynchronous HTTP request, please pass async_req=True\\n        >>> thread = api.list_service_account_for_all_namespaces(async_req=True)\\n        >>> result = thread.get()\\n\\n        :param async_req bool\\n        :param str _continue: The continue option should be set when retrieving more results from the server. Since this value is server defined, clients may only use the continue value from a previous query result with identical query parameters (except for the value of continue) and the server may reject a continue value it does not recognize. If the specified continue value is no longer valid whether due to expiration (generally five to fifteen minutes) or a configuration change on the server, the server will respond with a 410 ResourceExpired error together with a continue token. If the client needs a consistent list, it must restart their list without the continue field. Otherwise, the client may send another list request with the token received with the 410 error, the server will respond with a list starting from the next key, but from the latest snapshot, which is inconsistent from the previous list results - objects that are created, modified, or deleted after the first list request will be included in the response, as long as their keys are after the \\\\\\\"next key\\\\\\\".  This field is not supported when watch is true. Clients may start a watch from the last resourceVersion value returned by the server and not miss any modifications.\\n        :param str field_selector: A selector to restrict the list of returned objects by their fields. Defaults to everything.\\n        :param str label_selector: A selector to restrict the list of returned objects by their labels. Defaults to everything.\\n        :param int limit: limit is a maximum number of responses to return for a list call. If more items exist, the server will set the `continue` field on the list metadata to a value that can be used with the same initial query to retrieve the next set of results. Setting a limit may return fewer than the requested amount of items (up to zero items) in the event all requested objects are filtered out and clients should only use the presence of the continue field to determine whether more results are available. Servers may choose not to support the limit argument and will return all of the available results. If limit is specified and the continue field is empty, clients may assume that no more results are available. This field is not supported if watch is true.  The server guarantees that the objects returned when using continue will be identical to issuing a single list call without a limit - that is, no objects created, modified, or deleted after the first request is issued will be included in any subsequent continued requests. This is sometimes referred to as a consistent snapshot, and ensures that a client that is using limit to receive smaller chunks of a very large result can ensure they see all possible objects. If objects are updated during a chunked list the version of the object that was present at the time the first list result was calculated is returned.\\n        :param str pretty: If 'true', then the output is pretty printed.\\n        :param str resource_version: When specified with a watch call, shows changes that occur after that particular version of a resource. Defaults to changes from the beginning of history. When specified for list: - if unset, then the result is returned from remote storage based on quorum-read flag; - if it's 0, then we simply return what we currently have in cache, no guarantee; - if set to non zero, then the result is at least as fresh as given rv.\\n        :param int timeout_seconds: Timeout for the list/watch call. This limits the duration of the call, regardless of any activity or inactivity.\\n        :param bool watch: Watch for changes to the described resources and return them as a stream of add, update, and remove notifications. Specify resourceVersion.\\n        :return: V1ServiceAccountList\\n                 If the method is called asynchronously,\\n                 returns the request thread.\\n        \\\"\\\"\\\"\\n        kwargs['_return_http_data_only'] = True\\n        if kwargs.get('async_req'):\\n            return self.list_service_account_for_all_namespaces_with_http_info(**kwargs)\\n        else:\\n            (data) = self.list_service_account_for_all_namespaces_with_http_info(**kwargs)\\n            return data\",\n          \"def _is_already_configured(configuration_details):\\n    \\\"\\\"\\\"Returns `True` when alias already in shell config.\\\"\\\"\\\"\\n    path = Path(configuration_details.path).expanduser()\\n    with path.open('r') as shell_config:\\n        return configuration_details.content in shell_config.read()\"\n        ],\n        \"semantic_type\": \"\",\n        \"description\": \"\"\n      }\n    },\n    {\n      \"column\": \"language\",\n      \"properties\": {\n        \"dtype\": \"category\",\n        \"num_unique_values\": 1,\n        \"samples\": [\n          \"python\"\n        ],\n        \"semantic_type\": \"\",\n        \"description\": \"\"\n      }\n    },\n    {\n      \"column\": \"buggy_code\",\n      \"properties\": {\n        \"dtype\": \"category\",\n        \"num_unique_values\": 10228,\n        \"samples\": [\n          \"def hover(self):\\n        ''' Splattable list of :class:`~bokeh.models.tools.HoverTool` objects.\\n\\n        '''\\n        hovers = [obj for obj in self.tools if isinstance(obj, HoverTool)]\\n        return _list_attr_splat(hovers\"\n        ],\n        \"semantic_type\": \"\",\n        \"description\": \"\"\n      }\n    },\n    {\n      \"column\": \"correct_code\",\n      \"properties\": {\n        \"dtype\": \"category\",\n        \"num_unique_values\": 10228,\n        \"samples\": [\n          \"def hover(self):\\n        ''' Splattable list of :class:`~bokeh.models.tools.HoverTool` objects.\\n\\n        '''\\n        hovers = [obj for obj in self.tools if isinstance(obj, HoverTool)]\\n        return _list_attr_splat(hovers)\"\n        ],\n        \"semantic_type\": \"\",\n        \"description\": \"\"\n      }\n    },\n    {\n      \"column\": \"error_type\",\n      \"properties\": {\n        \"dtype\": \"category\",\n        \"num_unique_values\": 1,\n        \"samples\": [\n          \"syntax\"\n        ],\n        \"semantic_type\": \"\",\n        \"description\": \"\"\n      }\n    },\n    {\n      \"column\": \"question_title\",\n      \"properties\": {\n        \"dtype\": \"category\",\n        \"num_unique_values\": 10228,\n        \"samples\": [\n          \"bundle install error - Your bundle only supports platforms [] but your local platforms are [\\\"ruby\\\", \\\"x86_64-linux\\\"]\"\n        ],\n        \"semantic_type\": \"\",\n        \"description\": \"\"\n      }\n    },\n    {\n      \"column\": \"question_body\",\n      \"properties\": {\n        \"dtype\": \"category\",\n        \"num_unique_values\": 10228,\n        \"samples\": [\n          \"<p>Getting this error doing a bundle install; google around seems like a common issue but I can't seem to find the fix (seem suggestion on Gemfile.lock but I moved that file to another directory)</p>\\n\\n<pre><code># bundle install\\n\\nYour bundle only supports platforms [] but your local platforms are [\\\"ruby\\\", \\\"x86_64-linux\\\"], and there's no compatible match between those two lists.\\n</code></pre>\\n\\n<p>Here's my Gemfile and there is no Gemfile.lock in the directory.</p>\\n\\n<pre><code>[root@ip-172-30-4-16 rails]# gem -v\\n2.6.11\\n[root@ip-172-30-4-16 rails]# ruby -v\\nruby 2.2.4p230 (2015-12-16 revision 53155) [x86_64-linux]\\n[root@ip-172-30-4-16 rails]# bundle -v\\nBundler version 1.14.6\\n\\n[root@ip-172-30-4-16 rails]# cat Gemfile\\nsource 'http://rubygems.org'\\n\\ngem 'echoe'\\ngem 'rails', '~&gt; 3.2.11'\\ngem 'mysql2'\\ngem 'prawn', '~&gt; 0.5.0.1'\\ngem 'prawn-core', '~&gt; 0.5.0.1', :require =&gt; 'prawn/core'\\ngem 'prawn-layout', '~&gt; 0.2.0.1', :require =&gt; 'prawn/layout'\\ngem 'prawn-format', '~&gt; 0.2.0.1', :require =&gt; 'prawn/format'\\ngem 'spreadsheet', '~&gt; 0.6.5'\\ngem 'libxml-ruby', :require =&gt; 'libxml_ruby'\\ngem 'faker'\\ngem 'json'\\ngem 'rake'\\ngem 'jquery-rails'\\ngem 'therubyracer'\\ngem 'delayed_job_active_record'\\ngem 'daemons'\\ngem 'memcache-client'\\ngem 'rb-readline'\\ngem 'rubyzip', '~&gt; 1.0.0'\\ngem 'zip-zip' # Rubyzip old API compatibility addon\\n\\n# Gems used only for assets and not required\\n# in production environments by default.\\ngroup :assets do\\n  gem 'sass-rails',   '~&gt; 3.2.3'\\n  gem 'coffee-rails', '~&gt; 3.2.1'\\n  gem 'uglifier', '&gt;= 1.0.3'\\nend\\n\\n#group :development do\\n#  gem 'ruby-debug19'\\n#end\\n\\ngroup :test do\\n  gem 'flexmock', '= 0.9.0'\\n  gem 'machinist', '= 2.0'\\n  gem 'test-unit', '~&gt; 1.2.3'\\n  # Use SimpleCov and Coveralls for test coverage reports\\n  gem 'simplecov'\\n  gem 'coveralls'\\nend\\n\\ngroup :production do\\n  gem 'passenger'\\nend\\n\\ngroup :test, :development do\\n  gem 'rspec-rails', '~&gt; 2.0'\\nend\\n</code></pre>\\n\"\n        ],\n        \"semantic_type\": \"\",\n        \"description\": \"\"\n      }\n    },\n    {\n      \"column\": \"tags\",\n      \"properties\": {\n        \"dtype\": \"category\",\n        \"num_unique_values\": 7901,\n        \"samples\": [\n          \"<javascript><html><ecmascript-6>\"\n        ],\n        \"semantic_type\": \"\",\n        \"description\": \"\"\n      }\n    }\n  ]\n}"
            }
          },
          "metadata": {},
          "execution_count": 17
        }
      ]
    },
    {
      "cell_type": "markdown",
      "source": [
        "# 1.2 Basic Information and Statistics\n",
        "After loading the data, check the structure, data types, and any missing values."
      ],
      "metadata": {
        "id": "ie9wIUONrVGd"
      }
    },
    {
      "cell_type": "code",
      "source": [
        "# Get basic info on data types and non-null counts\n",
        "df.info()\n",
        "\n",
        "# Check for missing values\n",
        "missing_values = df.isnull().sum()\n",
        "print(\"Missing values:\\n\", missing_values)\n"
      ],
      "metadata": {
        "trusted": true,
        "colab": {
          "base_uri": "https://localhost:8080/"
        },
        "id": "A2xPS9IgrVGd",
        "outputId": "7af49d7d-bd66-4050-9da1-a38be586905d"
      },
      "execution_count": 18,
      "outputs": [
        {
          "output_type": "stream",
          "name": "stdout",
          "text": [
            "<class 'pandas.core.frame.DataFrame'>\n",
            "RangeIndex: 23784 entries, 0 to 23783\n",
            "Data columns (total 10 columns):\n",
            " #   Column           Non-Null Count  Dtype \n",
            "---  ------           --------------  ----- \n",
            " 0   func_name        23784 non-null  object\n",
            " 1   code             23784 non-null  object\n",
            " 2   original_string  23784 non-null  object\n",
            " 3   language         23784 non-null  object\n",
            " 4   buggy_code       23784 non-null  object\n",
            " 5   correct_code     23784 non-null  object\n",
            " 6   error_type       23784 non-null  object\n",
            " 7   question_title   23784 non-null  object\n",
            " 8   question_body    23784 non-null  object\n",
            " 9   tags             23784 non-null  object\n",
            "dtypes: object(10)\n",
            "memory usage: 1.8+ MB\n",
            "Missing values:\n",
            " func_name          0\n",
            "code               0\n",
            "original_string    0\n",
            "language           0\n",
            "buggy_code         0\n",
            "correct_code       0\n",
            "error_type         0\n",
            "question_title     0\n",
            "question_body      0\n",
            "tags               0\n",
            "dtype: int64\n"
          ]
        }
      ]
    },
    {
      "cell_type": "markdown",
      "source": [
        "# 1.3 Key Insights and Distributions\n",
        "Next, let’s start analyzing key aspects of the dataset, specifically focusing on:\n",
        "\n",
        "Error Types: Distribution of error_type.\n",
        "Tags: Top tags in Stack Overflow questions.\n",
        "Code Lengths: Distribution of code lengths in buggy_code and correct_code."
      ],
      "metadata": {
        "id": "zsD7Y7MXrVGe"
      }
    },
    {
      "cell_type": "markdown",
      "source": [
        "# 1.3.1 Error Type Distribution"
      ],
      "metadata": {
        "id": "mE5Tp-GsrVGe"
      }
    },
    {
      "cell_type": "code",
      "source": [
        "# Plot the distribution of error types\n",
        "import matplotlib.pyplot as plt\n",
        "\n",
        "df['error_type'].value_counts().plot(kind='bar', color='skyblue')\n",
        "plt.title('Error Type Distribution')\n",
        "plt.xlabel('Error Type')\n",
        "plt.ylabel('Count')\n",
        "plt.show()\n"
      ],
      "metadata": {
        "trusted": true,
        "colab": {
          "base_uri": "https://localhost:8080/",
          "height": 504
        },
        "id": "1MVruGVgrVGe",
        "outputId": "82ad0f8a-285e-4100-a5ca-6bece104d138"
      },
      "execution_count": 19,
      "outputs": [
        {
          "output_type": "display_data",
          "data": {
            "text/plain": [
              "<Figure size 640x480 with 1 Axes>"
            ],
            "image/png": "[encoded data removed]"
          },
          "metadata": {}
        }
      ]
    },
    {
      "cell_type": "markdown",
      "source": [
        "# 1.3.2 Top Tags in Stack Overflow Questions\n",
        "Stack Overflow tags can tell us which programming languages or topics are most associated with questions and debugging needs. Here’s how to look at the top 10 tags."
      ],
      "metadata": {
        "id": "JJAmJvHxrVGe"
      }
    },
    {
      "cell_type": "code",
      "source": [
        "# Split tags by commas if they are concatenated in the dataset\n",
        "df['tags'] = df['tags'].str.split(',')\n",
        "\n",
        "# Flatten and count tags\n",
        "tags = df['tags'].explode()\n",
        "top_tags = tags.value_counts().head(10)\n",
        "\n",
        "# Plot the top tags\n",
        "top_tags.plot(kind='bar', color='lightgreen')\n",
        "plt.title('Top 10 Tags in Stack Overflow Questions')\n",
        "plt.xlabel('Tags')\n",
        "plt.ylabel('Count')\n",
        "plt.show()"
      ],
      "metadata": {
        "trusted": true,
        "colab": {
          "base_uri": "https://localhost:8080/",
          "height": 619
        },
        "id": "A0pdiUWWrVGf",
        "outputId": "37df4cf9-0fb3-47aa-c34b-35fed3925f6a"
      },
      "execution_count": 20,
      "outputs": [
        {
          "output_type": "display_data",
          "data": {
            "text/plain": [
              "<Figure size 640x480 with 1 Axes>"
            ],
            "image/png": "[encoded data removed]"
          },
          "metadata": {}
        }
      ]
    },
    {
      "cell_type": "markdown",
      "source": [
        "# 1.3.3 Code Lengths in Buggy and Correct Code\n",
        "Analyzing the length of buggy_code vs. correct_code can show us if there's any notable difference in typical length between buggy and corrected versions."
      ],
      "metadata": {
        "id": "RyO-x18UrVGf"
      }
    },
    {
      "cell_type": "code",
      "source": [
        "# Add columns for code lengths\n",
        "df['buggy_code_length'] = df['buggy_code'].str.len()\n",
        "df['correct_code_length'] = df['correct_code'].str.len()\n",
        "\n",
        "# Plot distribution of code lengths\n",
        "plt.figure(figsize=(12, 5))\n",
        "plt.hist(df['buggy_code_length'], bins=30, alpha=0.5, label='Buggy Code Length', color='red')\n",
        "plt.hist(df['correct_code_length'], bins=30, alpha=0.5, label='Correct Code Length', color='blue')\n",
        "plt.title('Code Length Distribution: Buggy vs Correct Code')\n",
        "plt.xlabel('Code Length')\n",
        "plt.ylabel('Frequency')\n",
        "plt.legend()\n",
        "plt.show()"
      ],
      "metadata": {
        "trusted": true,
        "colab": {
          "base_uri": "https://localhost:8080/",
          "height": 487
        },
        "id": "1dqcNRMurVGf",
        "outputId": "1cf8cdd7-d471-40a9-d0cf-f9a0a188f9a6"
      },
      "execution_count": 21,
      "outputs": [
        {
          "output_type": "display_data",
          "data": {
            "text/plain": [
              "<Figure size 1200x500 with 1 Axes>"
            ],
            "image/png": "[encoded data removed]"
          },
          "metadata": {}
        }
      ]
    },
    {
      "cell_type": "markdown",
      "source": [
        "# Step 2 Data Preprocessing\n",
        "**Tokenize the Code** : Convert buggy_code and correct_code to tokens.\n",
        "\n",
        "**Padding** : Pad sequences to ensure consistent input/output lengths.\n",
        "\n",
        "**Split Data**: Create training and validation splits."
      ],
      "metadata": {
        "id": "1Xaq-wmgrVGg"
      }
    },
    {
      "cell_type": "code",
      "source": [
        "from sklearn.model_selection import train_test_split\n",
        "from tensorflow.keras.preprocessing.text import Tokenizer\n",
        "from tensorflow.keras.preprocessing.sequence import pad_sequences\n",
        "import numpy as np"
      ],
      "metadata": {
        "trusted": true,
        "id": "xPjjxZ8orVGg"
      },
      "execution_count": 22,
      "outputs": []
    },
    {
      "cell_type": "markdown",
      "source": [
        "# 2.1 Define Tokenizer and Pad Sequences\n",
        "We’ll create a tokenizer to convert text into integer sequences and pad these sequences to maintain consistent input/output lengths.\n",
        "\n",
        "Define Vocabulary Size and Maximum Sequence Length\n",
        "Set the vocab_size and max_length based on your dataset. These parameters control the vocabulary size and the maximum length for each sequence."
      ],
      "metadata": {
        "id": "siRmkrIurVGg"
      }
    },
    {
      "cell_type": "code",
      "source": [
        "# Define max vocabulary size and max sequence length\n",
        "vocab_size = 10000\n",
        "max_length = 100\n"
      ],
      "metadata": {
        "trusted": true,
        "id": "LQroJ0QirVGg"
      },
      "execution_count": 23,
      "outputs": []
    },
    {
      "cell_type": "markdown",
      "source": [
        "# 2.2 Initialize and Fit Tokenizer\n",
        "Fit a tokenizer on both the buggy and correct code columns of your dataset. Assuming your dataset has columns named buggy_code and correct_code:"
      ],
      "metadata": {
        "id": "5FWmIG040rbK"
      }
    },
    {
      "cell_type": "code",
      "source": [
        "# Initialize a tokenizer and fit it on both buggy and correct code\n",
        "tokenizer = Tokenizer(num_words=vocab_size, oov_token=\"<OOV>\")\n",
        "tokenizer.fit_on_texts(df['buggy_code'].tolist() + df['correct_code'].tolist())\n"
      ],
      "metadata": {
        "id": "oeU3whFs0uvB"
      },
      "execution_count": 24,
      "outputs": []
    },
    {
      "cell_type": "markdown",
      "source": [
        "# 2.3 Tokenize and Pad Sequences\n",
        "Define a helper function to tokenize and pad the sequences:"
      ],
      "metadata": {
        "id": "91GdZcdfrVGh"
      }
    },
    {
      "cell_type": "code",
      "source": [
        "def tokenize_and_pad(texts):\n",
        "    sequences = tokenizer.texts_to_sequences(texts)\n",
        "    return pad_sequences(sequences, maxlen=max_length, padding='post')\n",
        "\n",
        "# Tokenize and pad data\n",
        "X = tokenize_and_pad(df['buggy_code'])\n",
        "y = tokenize_and_pad(df['correct_code'])\n"
      ],
      "metadata": {
        "trusted": true,
        "id": "ZbajpBtyrVGh"
      },
      "execution_count": 25,
      "outputs": []
    },
    {
      "cell_type": "markdown",
      "source": [
        "# Step 3: Split Data into Training and Validation Sets"
      ],
      "metadata": {
        "id": "mFZ9virnxT7q"
      }
    },
    {
      "cell_type": "code",
      "source": [
        "X_train, X_val, y_train, y_val = train_test_split(X, y, test_size=0.2, random_state=42)\n"
      ],
      "metadata": {
        "id": "gy_uvWJn1BeC"
      },
      "execution_count": 26,
      "outputs": []
    },
    {
      "cell_type": "markdown",
      "source": [
        "# Step 4: Prepare Decoder Input and Target Data\n",
        "Now, let’s prepare decoder_input_data and decoder_target_data without one-hot encoding, as we discussed. These will be the inputs and outputs for the decoder during training.\n",
        "\n",
        "For Training Data"
      ],
      "metadata": {
        "id": "HBusF_6_1GZr"
      }
    },
    {
      "cell_type": "code",
      "source": [
        "decoder_input_data = np.zeros((X_train.shape[0], max_length))\n",
        "decoder_target_data = np.zeros((X_train.shape[0], max_length))\n",
        "\n",
        "for i, target_sequence in enumerate(y_train):\n",
        "    for t, word in enumerate(target_sequence):\n",
        "        if t > 0:\n",
        "            decoder_input_data[i, t-1] = word  # Shifted input for teacher forcing\n",
        "            decoder_target_data[i, t] = word  # Use integer labels\n"
      ],
      "metadata": {
        "id": "uyMLohm1ugMN"
      },
      "execution_count": 27,
      "outputs": []
    },
    {
      "cell_type": "markdown",
      "source": [
        "For Validation Data"
      ],
      "metadata": {
        "id": "qryO3SyJ1USd"
      }
    },
    {
      "cell_type": "code",
      "source": [
        "decoder_input_data_val = np.zeros((X_val.shape[0], max_length))\n",
        "decoder_target_data_val = np.zeros((X_val.shape[0], max_length))\n",
        "\n",
        "for i, target_sequence in enumerate(y_val):\n",
        "    for t, word in enumerate(target_sequence):\n",
        "        if t > 0:\n",
        "            decoder_input_data_val[i, t-1] = word\n",
        "            decoder_target_data_val[i, t] = word\n"
      ],
      "metadata": {
        "id": "4Tkn_JOI1VFH"
      },
      "execution_count": 28,
      "outputs": []
    },
    {
      "cell_type": "code",
      "source": [
        "# Model Parameters\n",
        "embedding_dim = 128  # Size of the embedding layer\n",
        "latent_dim = 256     # Size of the LSTM layer\n",
        "vocab_size = 10000   # Size of the vocabulary (adjust based on your data)\n",
        "max_length = 100     # Maximum sequence length for input data\n"
      ],
      "metadata": {
        "id": "au0KirUl5NH3"
      },
      "execution_count": 29,
      "outputs": []
    },
    {
      "cell_type": "code",
      "source": [
        "from tensorflow.keras.layers import Input, LSTM, Dense, Embedding\n",
        "from tensorflow.keras.models import Model\n",
        "\n",
        "# Encoder\n",
        "encoder_inputs = Input(shape=(max_length,))\n",
        "encoder_embedding = Embedding(vocab_size, embedding_dim)(encoder_inputs)\n",
        "encoder_lstm = LSTM(latent_dim, return_state=True)\n",
        "encoder_outputs, state_h, state_c = encoder_lstm(encoder_embedding)\n",
        "encoder_states = [state_h, state_c]\n"
      ],
      "metadata": {
        "id": "1eEwZKhG5Uov"
      },
      "execution_count": 30,
      "outputs": []
    },
    {
      "cell_type": "code",
      "source": [
        "# Decoder\n",
        "decoder_inputs = Input(shape=(max_length,))\n",
        "decoder_embedding = Embedding(vocab_size, embedding_dim)(decoder_inputs)\n",
        "decoder_lstm = LSTM(latent_dim, return_sequences=True, return_state=True)\n",
        "decoder_outputs, _, _ = decoder_lstm(decoder_embedding, initial_state=encoder_states)\n",
        "decoder_dense = Dense(vocab_size, activation='softmax')\n",
        "decoder_outputs = decoder_dense(decoder_outputs)\n"
      ],
      "metadata": {
        "id": "KzGYraMG5W2p"
      },
      "execution_count": 31,
      "outputs": []
    },
    {
      "cell_type": "code",
      "source": [
        "# Define the Seq2Seq model\n",
        "model = Model([encoder_inputs, decoder_inputs], decoder_outputs)\n",
        "\n",
        "# Compile the model\n",
        "model.compile(optimizer='adam', loss='sparse_categorical_crossentropy', metrics=['accuracy'])\n",
        "\n",
        "# Display the model summary to confirm the structure\n",
        "model.summary()\n"
      ],
      "metadata": {
        "colab": {
          "base_uri": "https://localhost:8080/",
          "height": 459
        },
        "id": "awVSbEVx5ZJY",
        "outputId": "824112eb-83ef-40e2-c9b0-07147e8ef219"
      },
      "execution_count": 32,
      "outputs": [
        {
          "output_type": "display_data",
          "data": {
            "text/plain": [
              "\u001b[1mModel: \"functional_1\"\u001b[0m\n"
            ],
            "text/html": [
              "<pre style=\"white-space:pre;overflow-x:auto;line-height:normal;font-family:Menlo,'DejaVu Sans Mono',consolas,'Courier New',monospace\"><span style=\"font-weight: bold\">Model: \"functional_1\"</span>\n",
              "</pre>\n"
            ]
          },
          "metadata": {}
        },
        {
          "output_type": "display_data",
          "data": {
            "text/plain": [
              "┏━━━━━━━━━━━━━━━━━━━━━━━━━━━┳━━━━━━━━━━━━━━━━━━━━━━━━┳━━━━━━━━━━━━━━━━┳━━━━━━━━━━━━━━━━━━━━━━━━┓\n",
              "┃\u001b[1m \u001b[0m\u001b[1mLayer (type)             \u001b[0m\u001b[1m \u001b[0m┃\u001b[1m \u001b[0m\u001b[1mOutput Shape          \u001b[0m\u001b[1m \u001b[0m┃\u001b[1m \u001b[0m\u001b[1m       Param #\u001b[0m\u001b[1m \u001b[0m┃\u001b[1m \u001b[0m\u001b[1mConnected to          \u001b[0m\u001b[1m \u001b[0m┃\n",
              "┡━━━━━━━━━━━━━━━━━━━━━━━━━━━╇━━━━━━━━━━━━━━━━━━━━━━━━╇━━━━━━━━━━━━━━━━╇━━━━━━━━━━━━━━━━━━━━━━━━┩\n",
              "│ input_layer_2             │ (\u001b[38;5;45mNone\u001b[0m, \u001b[38;5;34m100\u001b[0m)            │              \u001b[38;5;34m0\u001b[0m │ -                      │\n",
              "│ (\u001b[38;5;33mInputLayer\u001b[0m)              │                        │                │                        │\n",
              "├───────────────────────────┼────────────────────────┼────────────────┼────────────────────────┤\n",
              "│ input_layer_3             │ (\u001b[38;5;45mNone\u001b[0m, \u001b[38;5;34m100\u001b[0m)            │              \u001b[38;5;34m0\u001b[0m │ -                      │\n",
              "│ (\u001b[38;5;33mInputLayer\u001b[0m)              │                        │                │                        │\n",
              "├───────────────────────────┼────────────────────────┼────────────────┼────────────────────────┤\n",
              "│ embedding_2 (\u001b[38;5;33mEmbedding\u001b[0m)   │ (\u001b[38;5;45mNone\u001b[0m, \u001b[38;5;34m100\u001b[0m, \u001b[38;5;34m128\u001b[0m)       │      \u001b[38;5;34m1,280,000\u001b[0m │ input_layer_2[\u001b[38;5;34m0\u001b[0m][\u001b[38;5;34m0\u001b[0m]    │\n",
              "├───────────────────────────┼────────────────────────┼────────────────┼────────────────────────┤\n",
              "│ embedding_3 (\u001b[38;5;33mEmbedding\u001b[0m)   │ (\u001b[38;5;45mNone\u001b[0m, \u001b[38;5;34m100\u001b[0m, \u001b[38;5;34m128\u001b[0m)       │      \u001b[38;5;34m1,280,000\u001b[0m │ input_layer_3[\u001b[38;5;34m0\u001b[0m][\u001b[38;5;34m0\u001b[0m]    │\n",
              "├───────────────────────────┼────────────────────────┼────────────────┼────────────────────────┤\n",
              "│ lstm_2 (\u001b[38;5;33mLSTM\u001b[0m)             │ [(\u001b[38;5;45mNone\u001b[0m, \u001b[38;5;34m256\u001b[0m), (\u001b[38;5;45mNone\u001b[0m,   │        \u001b[38;5;34m394,240\u001b[0m │ embedding_2[\u001b[38;5;34m0\u001b[0m][\u001b[38;5;34m0\u001b[0m]      │\n",
              "│                           │ \u001b[38;5;34m256\u001b[0m), (\u001b[38;5;45mNone\u001b[0m, \u001b[38;5;34m256\u001b[0m)]     │                │                        │\n",
              "├───────────────────────────┼────────────────────────┼────────────────┼────────────────────────┤\n",
              "│ lstm_3 (\u001b[38;5;33mLSTM\u001b[0m)             │ [(\u001b[38;5;45mNone\u001b[0m, \u001b[38;5;34m100\u001b[0m, \u001b[38;5;34m256\u001b[0m),     │        \u001b[38;5;34m394,240\u001b[0m │ embedding_3[\u001b[38;5;34m0\u001b[0m][\u001b[38;5;34m0\u001b[0m],     │\n",
              "│                           │ (\u001b[38;5;45mNone\u001b[0m, \u001b[38;5;34m256\u001b[0m), (\u001b[38;5;45mNone\u001b[0m,    │                │ lstm_2[\u001b[38;5;34m0\u001b[0m][\u001b[38;5;34m1\u001b[0m],          │\n",
              "│                           │ \u001b[38;5;34m256\u001b[0m)]                  │                │ lstm_2[\u001b[38;5;34m0\u001b[0m][\u001b[38;5;34m2\u001b[0m]           │\n",
              "├───────────────────────────┼────────────────────────┼────────────────┼────────────────────────┤\n",
              "│ dense_1 (\u001b[38;5;33mDense\u001b[0m)           │ (\u001b[38;5;45mNone\u001b[0m, \u001b[38;5;34m100\u001b[0m, \u001b[38;5;34m10000\u001b[0m)     │      \u001b[38;5;34m2,570,000\u001b[0m │ lstm_3[\u001b[38;5;34m0\u001b[0m][\u001b[38;5;34m0\u001b[0m]           │\n",
              "└───────────────────────────┴────────────────────────┴────────────────┴────────────────────────┘\n"
            ],
            "text/html": [
              "<pre style=\"white-space:pre;overflow-x:auto;line-height:normal;font-family:Menlo,'DejaVu Sans Mono',consolas,'Courier New',monospace\">┏━━━━━━━━━━━━━━━━━━━━━━━━━━━┳━━━━━━━━━━━━━━━━━━━━━━━━┳━━━━━━━━━━━━━━━━┳━━━━━━━━━━━━━━━━━━━━━━━━┓\n",
              "┃<span style=\"font-weight: bold\"> Layer (type)              </span>┃<span style=\"font-weight: bold\"> Output Shape           </span>┃<span style=\"font-weight: bold\">        Param # </span>┃<span style=\"font-weight: bold\"> Connected to           </span>┃\n",
              "┡━━━━━━━━━━━━━━━━━━━━━━━━━━━╇━━━━━━━━━━━━━━━━━━━━━━━━╇━━━━━━━━━━━━━━━━╇━━━━━━━━━━━━━━━━━━━━━━━━┩\n",
              "│ input_layer_2             │ (<span style=\"color: #00d7ff; text-decoration-color: #00d7ff\">None</span>, <span style=\"color: #00af00; text-decoration-color: #00af00\">100</span>)            │              <span style=\"color: #00af00; text-decoration-color: #00af00\">0</span> │ -                      │\n",
              "│ (<span style=\"color: #0087ff; text-decoration-color: #0087ff\">InputLayer</span>)              │                        │                │                        │\n",
              "├───────────────────────────┼────────────────────────┼────────────────┼────────────────────────┤\n",
              "│ input_layer_3             │ (<span style=\"color: #00d7ff; text-decoration-color: #00d7ff\">None</span>, <span style=\"color: #00af00; text-decoration-color: #00af00\">100</span>)            │              <span style=\"color: #00af00; text-decoration-color: #00af00\">0</span> │ -                      │\n",
              "│ (<span style=\"color: #0087ff; text-decoration-color: #0087ff\">InputLayer</span>)              │                        │                │                        │\n",
              "├───────────────────────────┼────────────────────────┼────────────────┼────────────────────────┤\n",
              "│ embedding_2 (<span style=\"color: #0087ff; text-decoration-color: #0087ff\">Embedding</span>)   │ (<span style=\"color: #00d7ff; text-decoration-color: #00d7ff\">None</span>, <span style=\"color: #00af00; text-decoration-color: #00af00\">100</span>, <span style=\"color: #00af00; text-decoration-color: #00af00\">128</span>)       │      <span style=\"color: #00af00; text-decoration-color: #00af00\">1,280,000</span> │ input_layer_2[<span style=\"color: #00af00; text-decoration-color: #00af00\">0</span>][<span style=\"color: #00af00; text-decoration-color: #00af00\">0</span>]    │\n",
              "├───────────────────────────┼────────────────────────┼────────────────┼────────────────────────┤\n",
              "│ embedding_3 (<span style=\"color: #0087ff; text-decoration-color: #0087ff\">Embedding</span>)   │ (<span style=\"color: #00d7ff; text-decoration-color: #00d7ff\">None</span>, <span style=\"color: #00af00; text-decoration-color: #00af00\">100</span>, <span style=\"color: #00af00; text-decoration-color: #00af00\">128</span>)       │      <span style=\"color: #00af00; text-decoration-color: #00af00\">1,280,000</span> │ input_layer_3[<span style=\"color: #00af00; text-decoration-color: #00af00\">0</span>][<span style=\"color: #00af00; text-decoration-color: #00af00\">0</span>]    │\n",
              "├───────────────────────────┼────────────────────────┼────────────────┼────────────────────────┤\n",
              "│ lstm_2 (<span style=\"color: #0087ff; text-decoration-color: #0087ff\">LSTM</span>)             │ [(<span style=\"color: #00d7ff; text-decoration-color: #00d7ff\">None</span>, <span style=\"color: #00af00; text-decoration-color: #00af00\">256</span>), (<span style=\"color: #00d7ff; text-decoration-color: #00d7ff\">None</span>,   │        <span style=\"color: #00af00; text-decoration-color: #00af00\">394,240</span> │ embedding_2[<span style=\"color: #00af00; text-decoration-color: #00af00\">0</span>][<span style=\"color: #00af00; text-decoration-color: #00af00\">0</span>]      │\n",
              "│                           │ <span style=\"color: #00af00; text-decoration-color: #00af00\">256</span>), (<span style=\"color: #00d7ff; text-decoration-color: #00d7ff\">None</span>, <span style=\"color: #00af00; text-decoration-color: #00af00\">256</span>)]     │                │                        │\n",
              "├───────────────────────────┼────────────────────────┼────────────────┼────────────────────────┤\n",
              "│ lstm_3 (<span style=\"color: #0087ff; text-decoration-color: #0087ff\">LSTM</span>)             │ [(<span style=\"color: #00d7ff; text-decoration-color: #00d7ff\">None</span>, <span style=\"color: #00af00; text-decoration-color: #00af00\">100</span>, <span style=\"color: #00af00; text-decoration-color: #00af00\">256</span>),     │        <span style=\"color: #00af00; text-decoration-color: #00af00\">394,240</span> │ embedding_3[<span style=\"color: #00af00; text-decoration-color: #00af00\">0</span>][<span style=\"color: #00af00; text-decoration-color: #00af00\">0</span>],     │\n",
              "│                           │ (<span style=\"color: #00d7ff; text-decoration-color: #00d7ff\">None</span>, <span style=\"color: #00af00; text-decoration-color: #00af00\">256</span>), (<span style=\"color: #00d7ff; text-decoration-color: #00d7ff\">None</span>,    │                │ lstm_2[<span style=\"color: #00af00; text-decoration-color: #00af00\">0</span>][<span style=\"color: #00af00; text-decoration-color: #00af00\">1</span>],          │\n",
              "│                           │ <span style=\"color: #00af00; text-decoration-color: #00af00\">256</span>)]                  │                │ lstm_2[<span style=\"color: #00af00; text-decoration-color: #00af00\">0</span>][<span style=\"color: #00af00; text-decoration-color: #00af00\">2</span>]           │\n",
              "├───────────────────────────┼────────────────────────┼────────────────┼────────────────────────┤\n",
              "│ dense_1 (<span style=\"color: #0087ff; text-decoration-color: #0087ff\">Dense</span>)           │ (<span style=\"color: #00d7ff; text-decoration-color: #00d7ff\">None</span>, <span style=\"color: #00af00; text-decoration-color: #00af00\">100</span>, <span style=\"color: #00af00; text-decoration-color: #00af00\">10000</span>)     │      <span style=\"color: #00af00; text-decoration-color: #00af00\">2,570,000</span> │ lstm_3[<span style=\"color: #00af00; text-decoration-color: #00af00\">0</span>][<span style=\"color: #00af00; text-decoration-color: #00af00\">0</span>]           │\n",
              "└───────────────────────────┴────────────────────────┴────────────────┴────────────────────────┘\n",
              "</pre>\n"
            ]
          },
          "metadata": {}
        },
        {
          "output_type": "display_data",
          "data": {
            "text/plain": [
              "\u001b[1m Total params: \u001b[0m\u001b[38;5;34m5,918,480\u001b[0m (22.58 MB)\n"
            ],
            "text/html": [
              "<pre style=\"white-space:pre;overflow-x:auto;line-height:normal;font-family:Menlo,'DejaVu Sans Mono',consolas,'Courier New',monospace\"><span style=\"font-weight: bold\"> Total params: </span><span style=\"color: #00af00; text-decoration-color: #00af00\">5,918,480</span> (22.58 MB)\n",
              "</pre>\n"
            ]
          },
          "metadata": {}
        },
        {
          "output_type": "display_data",
          "data": {
            "text/plain": [
              "\u001b[1m Trainable params: \u001b[0m\u001b[38;5;34m5,918,480\u001b[0m (22.58 MB)\n"
            ],
            "text/html": [
              "<pre style=\"white-space:pre;overflow-x:auto;line-height:normal;font-family:Menlo,'DejaVu Sans Mono',consolas,'Courier New',monospace\"><span style=\"font-weight: bold\"> Trainable params: </span><span style=\"color: #00af00; text-decoration-color: #00af00\">5,918,480</span> (22.58 MB)\n",
              "</pre>\n"
            ]
          },
          "metadata": {}
        },
        {
          "output_type": "display_data",
          "data": {
            "text/plain": [
              "\u001b[1m Non-trainable params: \u001b[0m\u001b[38;5;34m0\u001b[0m (0.00 B)\n"
            ],
            "text/html": [
              "<pre style=\"white-space:pre;overflow-x:auto;line-height:normal;font-family:Menlo,'DejaVu Sans Mono',consolas,'Courier New',monospace\"><span style=\"font-weight: bold\"> Non-trainable params: </span><span style=\"color: #00af00; text-decoration-color: #00af00\">0</span> (0.00 B)\n",
              "</pre>\n"
            ]
          },
          "metadata": {}
        }
      ]
    },
    {
      "cell_type": "code",
      "source": [
        "history = model.fit(\n",
        "    [X_train, decoder_input_data], decoder_target_data,\n",
        "    validation_data=([X_val, decoder_input_data_val], decoder_target_data_val),\n",
        "    batch_size=32,  # Adjust based on available memory\n",
        "    epochs=10\n",
        ")\n"
      ],
      "metadata": {
        "colab": {
          "base_uri": "https://localhost:8080/"
        },
        "id": "SZmsi8Ki5cN0",
        "outputId": "8275afc7-e3d8-4ed2-ad63-f534c1c9ed7e"
      },
      "execution_count": 33,
      "outputs": [
        {
          "output_type": "stream",
          "name": "stdout",
          "text": [
            "Epoch 1/10\n",
            "\u001b[1m595/595\u001b[0m \u001b[32m━━━━━━━━━━━━━━━━━━━━\u001b[0m\u001b[37m\u001b[0m \u001b[1m42s\u001b[0m 61ms/step - accuracy: 0.2298 - loss: 5.8195 - val_accuracy: 0.3638 - val_loss: 4.0914\n",
            "Epoch 2/10\n",
            "\u001b[1m595/595\u001b[0m \u001b[32m━━━━━━━━━━━━━━━━━━━━\u001b[0m\u001b[37m\u001b[0m \u001b[1m38s\u001b[0m 61ms/step - accuracy: 0.4373 - loss: 3.7026 - val_accuracy: 0.6451 - val_loss: 2.5204\n",
            "Epoch 3/10\n",
            "\u001b[1m595/595\u001b[0m \u001b[32m━━━━━━━━━━━━━━━━━━━━\u001b[0m\u001b[37m\u001b[0m \u001b[1m43s\u001b[0m 64ms/step - accuracy: 0.6960 - loss: 2.2054 - val_accuracy: 0.8285 - val_loss: 1.3891\n",
            "Epoch 4/10\n",
            "\u001b[1m595/595\u001b[0m \u001b[32m━━━━━━━━━━━━━━━━━━━━\u001b[0m\u001b[37m\u001b[0m \u001b[1m40s\u001b[0m 63ms/step - accuracy: 0.8513 - loss: 1.1870 - val_accuracy: 0.9027 - val_loss: 0.8138\n",
            "Epoch 5/10\n",
            "\u001b[1m595/595\u001b[0m \u001b[32m━━━━━━━━━━━━━━━━━━━━\u001b[0m\u001b[37m\u001b[0m \u001b[1m38s\u001b[0m 63ms/step - accuracy: 0.9176 - loss: 0.6855 - val_accuracy: 0.9443 - val_loss: 0.4846\n",
            "Epoch 6/10\n",
            "\u001b[1m595/595\u001b[0m \u001b[32m━━━━━━━━━━━━━━━━━━━━\u001b[0m\u001b[37m\u001b[0m \u001b[1m37s\u001b[0m 63ms/step - accuracy: 0.9573 - loss: 0.3822 - val_accuracy: 0.9691 - val_loss: 0.2874\n",
            "Epoch 7/10\n",
            "\u001b[1m595/595\u001b[0m \u001b[32m━━━━━━━━━━━━━━━━━━━━\u001b[0m\u001b[37m\u001b[0m \u001b[1m41s\u001b[0m 63ms/step - accuracy: 0.9800 - loss: 0.2093 - val_accuracy: 0.9843 - val_loss: 0.1704\n",
            "Epoch 8/10\n",
            "\u001b[1m595/595\u001b[0m \u001b[32m━━━━━━━━━━━━━━━━━━━━\u001b[0m\u001b[37m\u001b[0m \u001b[1m41s\u001b[0m 63ms/step - accuracy: 0.9920 - loss: 0.1130 - val_accuracy: 0.9917 - val_loss: 0.1022\n",
            "Epoch 9/10\n",
            "\u001b[1m595/595\u001b[0m \u001b[32m━━━━━━━━━━━━━━━━━━━━\u001b[0m\u001b[37m\u001b[0m \u001b[1m41s\u001b[0m 63ms/step - accuracy: 0.9970 - loss: 0.0599 - val_accuracy: 0.9954 - val_loss: 0.0629\n",
            "Epoch 10/10\n",
            "\u001b[1m595/595\u001b[0m \u001b[32m━━━━━━━━━━━━━━━━━━━━\u001b[0m\u001b[37m\u001b[0m \u001b[1m41s\u001b[0m 63ms/step - accuracy: 0.9990 - loss: 0.0323 - val_accuracy: 0.9971 - val_loss: 0.0419\n"
          ]
        }
      ]
    },
    {
      "cell_type": "markdown",
      "source": [
        "# Step 6: **Evaluate** and Test the Model\n",
        "We'll use the validation data to measure the model’s performance on unseen samples. This will give us metrics like validation loss and accuracy."
      ],
      "metadata": {
        "id": "ZOdfiZAb7adH"
      }
    },
    {
      "cell_type": "code",
      "source": [
        "# Evaluate the model on the validation set\n",
        "val_loss, val_accuracy = model.evaluate([X_val, decoder_input_data_val], decoder_target_data_val)\n",
        "\n",
        "print(f\"Validation Loss: {val_loss}\")\n",
        "print(f\"Validation Accuracy: {val_accuracy}\")\n"
      ],
      "metadata": {
        "colab": {
          "base_uri": "https://localhost:8080/"
        },
        "id": "AfZR2UUN7e2Z",
        "outputId": "14ddf5eb-21b4-42e0-92a0-52b001e8a9f1"
      },
      "execution_count": 34,
      "outputs": [
        {
          "output_type": "stream",
          "name": "stdout",
          "text": [
            "\u001b[1m149/149\u001b[0m \u001b[32m━━━━━━━━━━━━━━━━━━━━\u001b[0m\u001b[37m\u001b[0m \u001b[1m5s\u001b[0m 32ms/step - accuracy: 0.9972 - loss: 0.0409\n",
            "Validation Loss: 0.04189404472708702\n",
            "Validation Accuracy: 0.9971283078193665\n"
          ]
        }
      ]
    },
    {
      "cell_type": "markdown",
      "source": [
        "# Step 7: Define Inference Models\n",
        "Define the Encoder Model for Inference:\n",
        "\n",
        "This model will take the input sequence and return the encoder states."
      ],
      "metadata": {
        "id": "I_ETQB0K7iWH"
      }
    },
    {
      "cell_type": "code",
      "source": [
        "from tensorflow.keras.models import Model\n",
        "\n",
        "# Encoder model\n",
        "encoder_model = Model(encoder_inputs, encoder_states)\n"
      ],
      "metadata": {
        "id": "lAnve00N7k2Q"
      },
      "execution_count": 38,
      "outputs": []
    },
    {
      "cell_type": "markdown",
      "source": [
        "# Define the Decoder Model for Inference:\n",
        "\n",
        "This model will take the encoder states along with the decoder input and return the decoder’s output and updated states."
      ],
      "metadata": {
        "id": "xgcJcmGt7qOI"
      }
    },
    {
      "cell_type": "code",
      "source": [
        "# Define the decoder inputs with shape (timesteps, features)\n",
        "\n",
        "decoder_inputs = Input(shape=(max_length,))\n"
      ],
      "metadata": {
        "id": "QL3QScND7si6"
      },
      "execution_count": 44,
      "outputs": []
    },
    {
      "cell_type": "code",
      "source": [
        "# Define the decoder model for inference\n",
        "decoder_inputs = Input(shape=(max_length,))  # Adjust shape to (max_length,) to avoid extra dimension\n",
        "decoder_state_input_h = Input(shape=(latent_dim,))\n",
        "decoder_state_input_c = Input(shape=(latent_dim,))\n",
        "decoder_states_inputs = [decoder_state_input_h, decoder_state_input_c]\n",
        "\n",
        "# Use a new embedding layer if necessary\n",
        "decoder_embedding_layer = Embedding(vocab_size, embedding_dim)  # Create a new embedding layer\n",
        "decoder_embedding = decoder_embedding_layer(decoder_inputs)\n",
        "\n",
        "# Pass through LSTM layer\n",
        "decoder_outputs, state_h, state_c = decoder_lstm(\n",
        "    decoder_embedding, initial_state=decoder_states_inputs\n",
        ")\n",
        "\n",
        "decoder_states = [state_h, state_c]\n",
        "decoder_outputs = decoder_dense(decoder_outputs)\n",
        "\n",
        "# Create the decoder model\n",
        "decoder_model = Model(\n",
        "    [decoder_inputs] + decoder_states_inputs,\n",
        "    [decoder_outputs] + decoder_states\n",
        ")\n"
      ],
      "metadata": {
        "id": "ijI9s1cD8eTO"
      },
      "execution_count": 45,
      "outputs": []
    },
    {
      "cell_type": "markdown",
      "source": [
        "# Step 8: Testing the Model with Sample Inputs\n",
        "We’ll define a function to use the encoder and decoder models in tandem to generate corrections. Here’s the complete code to decode sequences using the trained models:\n",
        "\n",
        "**Define the Inference Function:** This function will take a buggy input sequence, pass it through the encoder to get the initial states, and then use the decoder in a loop to generate the corrected sequence."
      ],
      "metadata": {
        "id": "dPQC3pn79T1_"
      }
    },
    {
      "cell_type": "code",
      "source": [
        "def decode_sequence(input_seq):\n",
        "    # Encode the input as state vectors.\n",
        "    states_value = encoder_model.predict(input_seq)\n",
        "\n",
        "    # Initialize target sequence with the start token.\n",
        "    target_seq = np.array([tokenizer.word_index['<start>']])\n",
        "\n",
        "    # Initialize variables\n",
        "    stop_condition = False\n",
        "    decoded_sentence = ''\n",
        "\n",
        "    while not stop_condition:\n",
        "        # Run the decoder model to get the predicted token and states.\n",
        "        output_tokens, h, c = decoder_model.predict([target_seq] + states_value)\n",
        "\n",
        "        # Sample a token\n",
        "        sampled_token_index = np.argmax(output_tokens[0, -1, :])\n",
        "        sampled_word = tokenizer.index_word[sampled_token_index]\n",
        "        decoded_sentence += ' ' + sampled_word\n",
        "\n",
        "        # Stop if end token is found or max length is reached.\n",
        "        if sampled_word == '<end>' or len(decoded_sentence.split()) > max_length:\n",
        "            stop_condition = True\n",
        "\n",
        "        # Update the target sequence for the next step\n",
        "        target_seq = np.array([sampled_token_index])\n",
        "        states_value = [h, c]\n",
        "\n",
        "    return decoded_sentence\n"
      ],
      "metadata": {
        "id": "Q_YNlPVc9bDR"
      },
      "execution_count": 46,
      "outputs": []
    },
    {
      "cell_type": "markdown",
      "source": [
        "**Test the Model on Sample Validation Data: Run a few sequences from the validation data through the model to see its predictions.**"
      ],
      "metadata": {
        "id": "_tsaffD79d9S"
      }
    },
    {
      "cell_type": "code",
      "source": [
        "# Check if '<start>' and '<end>' tokens are in the tokenizer\n",
        "if '<start>' not in tokenizer.word_index:\n",
        "    tokenizer.word_index['<start>'] = len(tokenizer.word_index) + 1\n",
        "if '<end>' not in tokenizer.word_index:\n",
        "    tokenizer.word_index['<end>'] = len(tokenizer.word_index) + 1\n",
        "\n",
        "# Also ensure that the index_word dictionary is updated\n",
        "tokenizer.index_word = {v: k for k, v in tokenizer.word_index.items()}\n"
      ],
      "metadata": {
        "id": "DZYgGhSZ9fzU"
      },
      "execution_count": 48,
      "outputs": []
    },
    {
      "cell_type": "code",
      "source": [
        "def decode_sequence(input_seq):\n",
        "    # Ensure input_seq has the correct shape\n",
        "    input_seq = np.array(input_seq).reshape((1, max_length))\n",
        "\n",
        "    # Encode the input as state vectors\n",
        "    states_value = encoder_model.predict(input_seq)\n",
        "\n",
        "    # Initialize target sequence with the start token\n",
        "    target_seq = np.array([tokenizer.word_index['<start>']])\n",
        "    target_seq = target_seq.reshape(1, 1)  # Shape (1, 1) to match model input requirements\n",
        "\n",
        "    # Sampling loop for a maximum sequence length\n",
        "    stop_condition = False\n",
        "    decoded_sentence = ''\n",
        "\n",
        "    while not stop_condition:\n",
        "        output_tokens, h, c = decoder_model.predict([target_seq] + states_value)\n",
        "\n",
        "        # Sample a token\n",
        "        sampled_token_index = np.argmax(output_tokens[0, -1, :])\n",
        "        sampled_word = tokenizer.index_word.get(sampled_token_index, '?')\n",
        "        decoded_sentence += ' ' + sampled_word\n",
        "\n",
        "        # Exit condition: either hit max length or find the end token\n",
        "        if sampled_word == '<end>' or len(decoded_sentence) > max_length:\n",
        "            stop_condition = True\n",
        "\n",
        "        # Update the target sequence (of length 1)\n",
        "        target_seq = np.array([sampled_token_index]).reshape(1, 1)\n",
        "\n",
        "        # Update states\n",
        "        states_value = [h, c]\n",
        "\n",
        "    return decoded_sentence\n"
      ],
      "metadata": {
        "id": "D3brSaB--CUI"
      },
      "execution_count": 52,
      "outputs": []
    },
    {
      "cell_type": "code",
      "source": [
        "for seq_index in range(5):  # Test on the first 5 samples\n",
        "    input_seq = X_val[seq_index: seq_index + 1]  # Slice the batch\n",
        "\n",
        "    # Decode the input sequence\n",
        "    decoded_sentence = decode_sequence(input_seq)\n",
        "\n",
        "    print(\"Input Buggy Code:\", tokenizer.sequences_to_texts([X_val[seq_index]])[0])\n",
        "    print(\"Predicted Correction:\", decoded_sentence)\n",
        "    print(\"\\n\")\n"
      ],
      "metadata": {
        "colab": {
          "base_uri": "https://localhost:8080/"
        },
        "id": "03iWhJyv-0gI",
        "outputId": "7043b672-ce7c-4e72-f606-73d7d3cf207c"
      },
      "execution_count": 53,
      "outputs": [
        {
          "output_type": "stream",
          "name": "stdout",
          "text": [
            "\u001b[1m1/1\u001b[0m \u001b[32m━━━━━━━━━━━━━━━━━━━━\u001b[0m\u001b[37m\u001b[0m \u001b[1m0s\u001b[0m 19ms/step\n",
            "\u001b[1m1/1\u001b[0m \u001b[32m━━━━━━━━━━━━━━━━━━━━\u001b[0m\u001b[37m\u001b[0m \u001b[1m0s\u001b[0m 124ms/step\n",
            "\u001b[1m1/1\u001b[0m \u001b[32m━━━━━━━━━━━━━━━━━━━━\u001b[0m\u001b[37m\u001b[0m \u001b[1m0s\u001b[0m 17ms/step\n",
            "\u001b[1m1/1\u001b[0m \u001b[32m━━━━━━━━━━━━━━━━━━━━\u001b[0m\u001b[37m\u001b[0m \u001b[1m0s\u001b[0m 17ms/step\n",
            "\u001b[1m1/1\u001b[0m \u001b[32m━━━━━━━━━━━━━━━━━━━━\u001b[0m\u001b[37m\u001b[0m \u001b[1m0s\u001b[0m 32ms/step\n",
            "\u001b[1m1/1\u001b[0m \u001b[32m━━━━━━━━━━━━━━━━━━━━\u001b[0m\u001b[37m\u001b[0m \u001b[1m0s\u001b[0m 29ms/step\n",
            "\u001b[1m1/1\u001b[0m \u001b[32m━━━━━━━━━━━━━━━━━━━━\u001b[0m\u001b[37m\u001b[0m \u001b[1m0s\u001b[0m 30ms/step\n",
            "\u001b[1m1/1\u001b[0m \u001b[32m━━━━━━━━━━━━━━━━━━━━\u001b[0m\u001b[37m\u001b[0m \u001b[1m0s\u001b[0m 29ms/step\n",
            "\u001b[1m1/1\u001b[0m \u001b[32m━━━━━━━━━━━━━━━━━━━━\u001b[0m\u001b[37m\u001b[0m \u001b[1m0s\u001b[0m 29ms/step\n",
            "\u001b[1m1/1\u001b[0m \u001b[32m━━━━━━━━━━━━━━━━━━━━\u001b[0m\u001b[37m\u001b[0m \u001b[1m0s\u001b[0m 27ms/step\n",
            "\u001b[1m1/1\u001b[0m \u001b[32m━━━━━━━━━━━━━━━━━━━━\u001b[0m\u001b[37m\u001b[0m \u001b[1m0s\u001b[0m 28ms/step\n",
            "\u001b[1m1/1\u001b[0m \u001b[32m━━━━━━━━━━━━━━━━━━━━\u001b[0m\u001b[37m\u001b[0m \u001b[1m0s\u001b[0m 29ms/step\n",
            "\u001b[1m1/1\u001b[0m \u001b[32m━━━━━━━━━━━━━━━━━━━━\u001b[0m\u001b[37m\u001b[0m \u001b[1m0s\u001b[0m 32ms/step\n",
            "\u001b[1m1/1\u001b[0m \u001b[32m━━━━━━━━━━━━━━━━━━━━\u001b[0m\u001b[37m\u001b[0m \u001b[1m0s\u001b[0m 22ms/step\n",
            "\u001b[1m1/1\u001b[0m \u001b[32m━━━━━━━━━━━━━━━━━━━━\u001b[0m\u001b[37m\u001b[0m \u001b[1m0s\u001b[0m 18ms/step\n",
            "\u001b[1m1/1\u001b[0m \u001b[32m━━━━━━━━━━━━━━━━━━━━\u001b[0m\u001b[37m\u001b[0m \u001b[1m0s\u001b[0m 18ms/step\n",
            "\u001b[1m1/1\u001b[0m \u001b[32m━━━━━━━━━━━━━━━━━━━━\u001b[0m\u001b[37m\u001b[0m \u001b[1m0s\u001b[0m 18ms/step\n",
            "\u001b[1m1/1\u001b[0m \u001b[32m━━━━━━━━━━━━━━━━━━━━\u001b[0m\u001b[37m\u001b[0m \u001b[1m0s\u001b[0m 18ms/step\n",
            "\u001b[1m1/1\u001b[0m \u001b[32m━━━━━━━━━━━━━━━━━━━━\u001b[0m\u001b[37m\u001b[0m \u001b[1m0s\u001b[0m 24ms/step\n",
            "Input Buggy Code: contract start date front contract auto close date trading day self grace days gap end prev trading day if dt gap start return front if we are within self grace days of the front <OOV> auto close date and a volume flip happened during that period return the back contract as the active one sessions tc sessions in range tc minute to session label gap start tc minute to session label gap end for session in sessions front vol get value front session 'volume' back vol get value back session 'volume' if back vol front vol return back return <OOV>\n",
            "Predicted Correction:  ? most csidl unfit unfit ipython ipython unfit kl unfit unfit crypto ipython unfit kl unfit unfit crypto\n",
            "\n",
            "\n",
            "\u001b[1m1/1\u001b[0m \u001b[32m━━━━━━━━━━━━━━━━━━━━\u001b[0m\u001b[37m\u001b[0m \u001b[1m0s\u001b[0m 24ms/step\n",
            "\u001b[1m1/1\u001b[0m \u001b[32m━━━━━━━━━━━━━━━━━━━━\u001b[0m\u001b[37m\u001b[0m \u001b[1m0s\u001b[0m 24ms/step\n",
            "\u001b[1m1/1\u001b[0m \u001b[32m━━━━━━━━━━━━━━━━━━━━\u001b[0m\u001b[37m\u001b[0m \u001b[1m0s\u001b[0m 19ms/step\n",
            "\u001b[1m1/1\u001b[0m \u001b[32m━━━━━━━━━━━━━━━━━━━━\u001b[0m\u001b[37m\u001b[0m \u001b[1m0s\u001b[0m 18ms/step\n",
            "\u001b[1m1/1\u001b[0m \u001b[32m━━━━━━━━━━━━━━━━━━━━\u001b[0m\u001b[37m\u001b[0m \u001b[1m0s\u001b[0m 20ms/step\n",
            "\u001b[1m1/1\u001b[0m \u001b[32m━━━━━━━━━━━━━━━━━━━━\u001b[0m\u001b[37m\u001b[0m \u001b[1m0s\u001b[0m 18ms/step\n",
            "\u001b[1m1/1\u001b[0m \u001b[32m━━━━━━━━━━━━━━━━━━━━\u001b[0m\u001b[37m\u001b[0m \u001b[1m0s\u001b[0m 19ms/step\n",
            "\u001b[1m1/1\u001b[0m \u001b[32m━━━━━━━━━━━━━━━━━━━━\u001b[0m\u001b[37m\u001b[0m \u001b[1m0s\u001b[0m 17ms/step\n",
            "\u001b[1m1/1\u001b[0m \u001b[32m━━━━━━━━━━━━━━━━━━━━\u001b[0m\u001b[37m\u001b[0m \u001b[1m0s\u001b[0m 18ms/step\n",
            "\u001b[1m1/1\u001b[0m \u001b[32m━━━━━━━━━━━━━━━━━━━━\u001b[0m\u001b[37m\u001b[0m \u001b[1m0s\u001b[0m 19ms/step\n",
            "\u001b[1m1/1\u001b[0m \u001b[32m━━━━━━━━━━━━━━━━━━━━\u001b[0m\u001b[37m\u001b[0m \u001b[1m0s\u001b[0m 19ms/step\n",
            "\u001b[1m1/1\u001b[0m \u001b[32m━━━━━━━━━━━━━━━━━━━━\u001b[0m\u001b[37m\u001b[0m \u001b[1m0s\u001b[0m 18ms/step\n",
            "\u001b[1m1/1\u001b[0m \u001b[32m━━━━━━━━━━━━━━━━━━━━\u001b[0m\u001b[37m\u001b[0m \u001b[1m0s\u001b[0m 19ms/step\n",
            "\u001b[1m1/1\u001b[0m \u001b[32m━━━━━━━━━━━━━━━━━━━━\u001b[0m\u001b[37m\u001b[0m \u001b[1m0s\u001b[0m 25ms/step\n",
            "\u001b[1m1/1\u001b[0m \u001b[32m━━━━━━━━━━━━━━━━━━━━\u001b[0m\u001b[37m\u001b[0m \u001b[1m0s\u001b[0m 22ms/step\n",
            "\u001b[1m1/1\u001b[0m \u001b[32m━━━━━━━━━━━━━━━━━━━━\u001b[0m\u001b[37m\u001b[0m \u001b[1m0s\u001b[0m 27ms/step\n",
            "\u001b[1m1/1\u001b[0m \u001b[32m━━━━━━━━━━━━━━━━━━━━\u001b[0m\u001b[37m\u001b[0m \u001b[1m0s\u001b[0m 18ms/step\n",
            "\u001b[1m1/1\u001b[0m \u001b[32m━━━━━━━━━━━━━━━━━━━━\u001b[0m\u001b[37m\u001b[0m \u001b[1m0s\u001b[0m 18ms/step\n",
            "\u001b[1m1/1\u001b[0m \u001b[32m━━━━━━━━━━━━━━━━━━━━\u001b[0m\u001b[37m\u001b[0m \u001b[1m0s\u001b[0m 18ms/step\n",
            "Input Buggy Code: batch norm relu inputs is training data format data format if projection shortcut is not none shortcut projection shortcut inputs inputs conv2d fixed padding inputs inputs filters filters kernel size 3 strides strides data format data format use td use td targeting rate targeting rate keep prob keep prob is training is training inputs batch norm relu inputs is training data format data format inputs conv2d fixed padding inputs inputs filters filters kernel size 3 strides 1 data format data format use td use td targeting rate targeting rate keep prob keep prob is training is training return inputs <OOV>\n",
            "Predicted Correction:  ? most keyboard csidl unfit unfit unfit ipython unfit kl unfit unfit excess ipython csidl kl unfit unfit\n",
            "\n",
            "\n",
            "\u001b[1m1/1\u001b[0m \u001b[32m━━━━━━━━━━━━━━━━━━━━\u001b[0m\u001b[37m\u001b[0m \u001b[1m0s\u001b[0m 17ms/step\n",
            "\u001b[1m1/1\u001b[0m \u001b[32m━━━━━━━━━━━━━━━━━━━━\u001b[0m\u001b[37m\u001b[0m \u001b[1m0s\u001b[0m 18ms/step\n",
            "\u001b[1m1/1\u001b[0m \u001b[32m━━━━━━━━━━━━━━━━━━━━\u001b[0m\u001b[37m\u001b[0m \u001b[1m0s\u001b[0m 18ms/step\n",
            "\u001b[1m1/1\u001b[0m \u001b[32m━━━━━━━━━━━━━━━━━━━━\u001b[0m\u001b[37m\u001b[0m \u001b[1m0s\u001b[0m 21ms/step\n",
            "\u001b[1m1/1\u001b[0m \u001b[32m━━━━━━━━━━━━━━━━━━━━\u001b[0m\u001b[37m\u001b[0m \u001b[1m0s\u001b[0m 21ms/step\n",
            "\u001b[1m1/1\u001b[0m \u001b[32m━━━━━━━━━━━━━━━━━━━━\u001b[0m\u001b[37m\u001b[0m \u001b[1m0s\u001b[0m 19ms/step\n",
            "\u001b[1m1/1\u001b[0m \u001b[32m━━━━━━━━━━━━━━━━━━━━\u001b[0m\u001b[37m\u001b[0m \u001b[1m0s\u001b[0m 19ms/step\n",
            "\u001b[1m1/1\u001b[0m \u001b[32m━━━━━━━━━━━━━━━━━━━━\u001b[0m\u001b[37m\u001b[0m \u001b[1m0s\u001b[0m 23ms/step\n",
            "\u001b[1m1/1\u001b[0m \u001b[32m━━━━━━━━━━━━━━━━━━━━\u001b[0m\u001b[37m\u001b[0m \u001b[1m0s\u001b[0m 31ms/step\n",
            "\u001b[1m1/1\u001b[0m \u001b[32m━━━━━━━━━━━━━━━━━━━━\u001b[0m\u001b[37m\u001b[0m \u001b[1m0s\u001b[0m 30ms/step\n",
            "\u001b[1m1/1\u001b[0m \u001b[32m━━━━━━━━━━━━━━━━━━━━\u001b[0m\u001b[37m\u001b[0m \u001b[1m0s\u001b[0m 30ms/step\n",
            "\u001b[1m1/1\u001b[0m \u001b[32m━━━━━━━━━━━━━━━━━━━━\u001b[0m\u001b[37m\u001b[0m \u001b[1m0s\u001b[0m 33ms/step\n",
            "\u001b[1m1/1\u001b[0m \u001b[32m━━━━━━━━━━━━━━━━━━━━\u001b[0m\u001b[37m\u001b[0m \u001b[1m0s\u001b[0m 29ms/step\n",
            "\u001b[1m1/1\u001b[0m \u001b[32m━━━━━━━━━━━━━━━━━━━━\u001b[0m\u001b[37m\u001b[0m \u001b[1m0s\u001b[0m 29ms/step\n",
            "\u001b[1m1/1\u001b[0m \u001b[32m━━━━━━━━━━━━━━━━━━━━\u001b[0m\u001b[37m\u001b[0m \u001b[1m0s\u001b[0m 29ms/step\n",
            "\u001b[1m1/1\u001b[0m \u001b[32m━━━━━━━━━━━━━━━━━━━━\u001b[0m\u001b[37m\u001b[0m \u001b[1m0s\u001b[0m 29ms/step\n",
            "\u001b[1m1/1\u001b[0m \u001b[32m━━━━━━━━━━━━━━━━━━━━\u001b[0m\u001b[37m\u001b[0m \u001b[1m0s\u001b[0m 33ms/step\n",
            "\u001b[1m1/1\u001b[0m \u001b[32m━━━━━━━━━━━━━━━━━━━━\u001b[0m\u001b[37m\u001b[0m \u001b[1m0s\u001b[0m 31ms/step\n",
            "\u001b[1m1/1\u001b[0m \u001b[32m━━━━━━━━━━━━━━━━━━━━\u001b[0m\u001b[37m\u001b[0m \u001b[1m0s\u001b[0m 26ms/step\n",
            "Input Buggy Code: def <OOV> metadata batch env metadata for rollouts batch env shape batch env observ get shape as list batch size batch env shape 0 shapes types names todo <OOV> possibly retrieve the observation type for batch env batch size batch env shape 1 batch env observ dtype observation batch size tf float32 reward batch size tf bool done batch size list batch env action shape batch env action dtype action batch size tf float32 pdf batch size tf float32 value function return shapes types name <OOV> <OOV> <OOV> <OOV> <OOV> <OOV> <OOV> <OOV> <OOV> <OOV> <OOV> <OOV> <OOV> <OOV> <OOV>\n",
            "Predicted Correction:  ? most keyboard csidl unfit unfit unfit ipython unfit kl unfit unfit excess ipython csidl kl unfit unfit\n",
            "\n",
            "\n",
            "\u001b[1m1/1\u001b[0m \u001b[32m━━━━━━━━━━━━━━━━━━━━\u001b[0m\u001b[37m\u001b[0m \u001b[1m0s\u001b[0m 25ms/step\n",
            "\u001b[1m1/1\u001b[0m \u001b[32m━━━━━━━━━━━━━━━━━━━━\u001b[0m\u001b[37m\u001b[0m \u001b[1m0s\u001b[0m 34ms/step\n",
            "\u001b[1m1/1\u001b[0m \u001b[32m━━━━━━━━━━━━━━━━━━━━\u001b[0m\u001b[37m\u001b[0m \u001b[1m0s\u001b[0m 29ms/step\n",
            "\u001b[1m1/1\u001b[0m \u001b[32m━━━━━━━━━━━━━━━━━━━━\u001b[0m\u001b[37m\u001b[0m \u001b[1m0s\u001b[0m 39ms/step\n",
            "\u001b[1m1/1\u001b[0m \u001b[32m━━━━━━━━━━━━━━━━━━━━\u001b[0m\u001b[37m\u001b[0m \u001b[1m0s\u001b[0m 27ms/step\n",
            "\u001b[1m1/1\u001b[0m \u001b[32m━━━━━━━━━━━━━━━━━━━━\u001b[0m\u001b[37m\u001b[0m \u001b[1m0s\u001b[0m 28ms/step\n",
            "\u001b[1m1/1\u001b[0m \u001b[32m━━━━━━━━━━━━━━━━━━━━\u001b[0m\u001b[37m\u001b[0m \u001b[1m0s\u001b[0m 27ms/step\n",
            "\u001b[1m1/1\u001b[0m \u001b[32m━━━━━━━━━━━━━━━━━━━━\u001b[0m\u001b[37m\u001b[0m \u001b[1m0s\u001b[0m 31ms/step\n",
            "\u001b[1m1/1\u001b[0m \u001b[32m━━━━━━━━━━━━━━━━━━━━\u001b[0m\u001b[37m\u001b[0m \u001b[1m0s\u001b[0m 37ms/step\n",
            "\u001b[1m1/1\u001b[0m \u001b[32m━━━━━━━━━━━━━━━━━━━━\u001b[0m\u001b[37m\u001b[0m \u001b[1m0s\u001b[0m 31ms/step\n",
            "\u001b[1m1/1\u001b[0m \u001b[32m━━━━━━━━━━━━━━━━━━━━\u001b[0m\u001b[37m\u001b[0m \u001b[1m0s\u001b[0m 30ms/step\n",
            "\u001b[1m1/1\u001b[0m \u001b[32m━━━━━━━━━━━━━━━━━━━━\u001b[0m\u001b[37m\u001b[0m \u001b[1m0s\u001b[0m 29ms/step\n",
            "\u001b[1m1/1\u001b[0m \u001b[32m━━━━━━━━━━━━━━━━━━━━\u001b[0m\u001b[37m\u001b[0m \u001b[1m0s\u001b[0m 27ms/step\n",
            "\u001b[1m1/1\u001b[0m \u001b[32m━━━━━━━━━━━━━━━━━━━━\u001b[0m\u001b[37m\u001b[0m \u001b[1m0s\u001b[0m 35ms/step\n",
            "\u001b[1m1/1\u001b[0m \u001b[32m━━━━━━━━━━━━━━━━━━━━\u001b[0m\u001b[37m\u001b[0m \u001b[1m0s\u001b[0m 32ms/step\n",
            "\u001b[1m1/1\u001b[0m \u001b[32m━━━━━━━━━━━━━━━━━━━━\u001b[0m\u001b[37m\u001b[0m \u001b[1m0s\u001b[0m 29ms/step\n",
            "\u001b[1m1/1\u001b[0m \u001b[32m━━━━━━━━━━━━━━━━━━━━\u001b[0m\u001b[37m\u001b[0m \u001b[1m0s\u001b[0m 26ms/step\n",
            "\u001b[1m1/1\u001b[0m \u001b[32m━━━━━━━━━━━━━━━━━━━━\u001b[0m\u001b[37m\u001b[0m \u001b[1m0s\u001b[0m 28ms/step\n",
            "\u001b[1m1/1\u001b[0m \u001b[32m━━━━━━━━━━━━━━━━━━━━\u001b[0m\u001b[37m\u001b[0m \u001b[1m0s\u001b[0m 29ms/step\n",
            "Input Buggy Code: def is path match req path str cookie path str bool implements path matching <OOV> to rfc <OOV> if not req path startswith req path if req path cookie path return true if not req path startswith cookie path return false if cookie path endswith return true non matching req path len cookie path return non matching startswith <OOV> <OOV> <OOV> <OOV> <OOV> <OOV> <OOV> <OOV> <OOV> <OOV> <OOV> <OOV> <OOV> <OOV> <OOV> <OOV> <OOV> <OOV> <OOV> <OOV> <OOV> <OOV> <OOV> <OOV> <OOV> <OOV> <OOV> <OOV> <OOV> <OOV> <OOV> <OOV> <OOV> <OOV> <OOV> <OOV> <OOV> <OOV> <OOV> <OOV> <OOV> <OOV>\n",
            "Predicted Correction:  ? most csidl unfit unfit ipython ipython unfit kl unfit unfit crypto ipython unfit kl unfit unfit crypto\n",
            "\n",
            "\n",
            "\u001b[1m1/1\u001b[0m \u001b[32m━━━━━━━━━━━━━━━━━━━━\u001b[0m\u001b[37m\u001b[0m \u001b[1m0s\u001b[0m 33ms/step\n",
            "\u001b[1m1/1\u001b[0m \u001b[32m━━━━━━━━━━━━━━━━━━━━\u001b[0m\u001b[37m\u001b[0m \u001b[1m0s\u001b[0m 36ms/step\n",
            "\u001b[1m1/1\u001b[0m \u001b[32m━━━━━━━━━━━━━━━━━━━━\u001b[0m\u001b[37m\u001b[0m \u001b[1m0s\u001b[0m 32ms/step\n",
            "\u001b[1m1/1\u001b[0m \u001b[32m━━━━━━━━━━━━━━━━━━━━\u001b[0m\u001b[37m\u001b[0m \u001b[1m0s\u001b[0m 33ms/step\n",
            "\u001b[1m1/1\u001b[0m \u001b[32m━━━━━━━━━━━━━━━━━━━━\u001b[0m\u001b[37m\u001b[0m \u001b[1m0s\u001b[0m 27ms/step\n",
            "\u001b[1m1/1\u001b[0m \u001b[32m━━━━━━━━━━━━━━━━━━━━\u001b[0m\u001b[37m\u001b[0m \u001b[1m0s\u001b[0m 20ms/step\n",
            "\u001b[1m1/1\u001b[0m \u001b[32m━━━━━━━━━━━━━━━━━━━━\u001b[0m\u001b[37m\u001b[0m \u001b[1m0s\u001b[0m 21ms/step\n",
            "\u001b[1m1/1\u001b[0m \u001b[32m━━━━━━━━━━━━━━━━━━━━\u001b[0m\u001b[37m\u001b[0m \u001b[1m0s\u001b[0m 19ms/step\n",
            "\u001b[1m1/1\u001b[0m \u001b[32m━━━━━━━━━━━━━━━━━━━━\u001b[0m\u001b[37m\u001b[0m \u001b[1m0s\u001b[0m 18ms/step\n",
            "\u001b[1m1/1\u001b[0m \u001b[32m━━━━━━━━━━━━━━━━━━━━\u001b[0m\u001b[37m\u001b[0m \u001b[1m0s\u001b[0m 19ms/step\n",
            "\u001b[1m1/1\u001b[0m \u001b[32m━━━━━━━━━━━━━━━━━━━━\u001b[0m\u001b[37m\u001b[0m \u001b[1m0s\u001b[0m 18ms/step\n",
            "\u001b[1m1/1\u001b[0m \u001b[32m━━━━━━━━━━━━━━━━━━━━\u001b[0m\u001b[37m\u001b[0m \u001b[1m0s\u001b[0m 24ms/step\n",
            "\u001b[1m1/1\u001b[0m \u001b[32m━━━━━━━━━━━━━━━━━━━━\u001b[0m\u001b[37m\u001b[0m \u001b[1m0s\u001b[0m 20ms/step\n",
            "\u001b[1m1/1\u001b[0m \u001b[32m━━━━━━━━━━━━━━━━━━━━\u001b[0m\u001b[37m\u001b[0m \u001b[1m0s\u001b[0m 20ms/step\n",
            "\u001b[1m1/1\u001b[0m \u001b[32m━━━━━━━━━━━━━━━━━━━━\u001b[0m\u001b[37m\u001b[0m \u001b[1m0s\u001b[0m 19ms/step\n",
            "\u001b[1m1/1\u001b[0m \u001b[32m━━━━━━━━━━━━━━━━━━━━\u001b[0m\u001b[37m\u001b[0m \u001b[1m0s\u001b[0m 18ms/step\n",
            "\u001b[1m1/1\u001b[0m \u001b[32m━━━━━━━━━━━━━━━━━━━━\u001b[0m\u001b[37m\u001b[0m \u001b[1m0s\u001b[0m 19ms/step\n",
            "\u001b[1m1/1\u001b[0m \u001b[32m━━━━━━━━━━━━━━━━━━━━\u001b[0m\u001b[37m\u001b[0m \u001b[1m0s\u001b[0m 18ms/step\n",
            "\u001b[1m1/1\u001b[0m \u001b[32m━━━━━━━━━━━━━━━━━━━━\u001b[0m\u001b[37m\u001b[0m \u001b[1m0s\u001b[0m 18ms/step\n",
            "Input Buggy Code: def format eval result value show stdv true format metric string if len value 4 return ' s 's s g' value 0 value 1 value 2 elif len value 5 if show stdv return ' s 's s g g' value 0 value 1 value 2 value 4 else return ' s 's s g' value 0 value 1 value 2 else raise valueerror wrong metric value <OOV> <OOV> <OOV> <OOV> <OOV> <OOV> <OOV> <OOV> <OOV> <OOV> <OOV> <OOV> <OOV> <OOV> <OOV> <OOV> <OOV> <OOV> <OOV> <OOV> <OOV> <OOV> <OOV> <OOV> <OOV> <OOV> <OOV> <OOV> <OOV> <OOV> <OOV> <OOV>\n",
            "Predicted Correction:  ? most keyboard csidl unfit unfit unfit ipython unfit kl unfit unfit crypto ipython unfit kl unfit unfit\n",
            "\n",
            "\n"
          ]
        }
      ]
    }
  ]
}